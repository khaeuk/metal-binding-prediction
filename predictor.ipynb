{
 "cells": [
  {
   "cell_type": "code",
   "execution_count": 1,
   "metadata": {
    "ExecuteTime": {
     "end_time": "2018-06-05T07:05:03.943977Z",
     "start_time": "2018-06-05T07:05:03.939513Z"
    },
    "collapsed": true
   },
   "outputs": [],
   "source": [
    "x = 0"
   ]
  },
  {
   "cell_type": "code",
   "execution_count": 2,
   "metadata": {
    "ExecuteTime": {
     "end_time": "2018-06-05T07:05:11.740471Z",
     "start_time": "2018-06-05T07:05:03.946953Z"
    },
    "scrolled": true
   },
   "outputs": [
    {
     "name": "stdout",
     "output_type": "stream",
     "text": [
      "Importing modules... "
     ]
    },
    {
     "name": "stderr",
     "output_type": "stream",
     "text": [
      "Using TensorFlow backend.\n"
     ]
    },
    {
     "name": "stdout",
     "output_type": "stream",
     "text": [
      "Done\n",
      "Reading data from disk... Done\n",
      "Using FOFE encoder... Done\n"
     ]
    }
   ],
   "source": [
    "import sys\n",
    "import json\n",
    "import numpy as np\n",
    "import pandas as pd\n",
    "\n",
    "print (\"Importing modules...\", end=' ')\n",
    "import metal_prediction_modules\n",
    "print (\"Done\")\n",
    "\n",
    "##################################################\n",
    "\n",
    "print (\"Reading data from disk...\", end=' ')\n",
    "sys.stdout.flush()\n",
    "\n",
    "df = pd.read_parquet('./datasets/Metal_all_20180601.parquet')\n",
    "seqs = np.array(df.sequence)\n",
    "\n",
    "print (\"Done\")\n",
    "\n",
    "##################################################\n",
    "\n",
    "print (\"Using FOFE encoder...\", end=' ')\n",
    "sys.stdout.flush()\n",
    "# FOFE\n",
    "vocab_dic_fofe = {}\n",
    "with open(\"./dictionaries/vocab_dict_fofe\", 'r') as fp:\n",
    "        vocab_dic_fofe = json.load(fp)\n",
    "print (\"Done\")"
   ]
  },
  {
   "cell_type": "code",
   "execution_count": 3,
   "metadata": {
    "ExecuteTime": {
     "end_time": "2018-06-05T07:05:11.794534Z",
     "start_time": "2018-06-05T07:05:11.741958Z"
    },
    "collapsed": true
   },
   "outputs": [],
   "source": [
    "from Zihan.fofe import FofeVectorizer\n",
    "from sklearn.feature_extraction.text import CountVectorizer\n",
    "import keras\n",
    "import numpy as np\n",
    "\n",
    "def FOFE(s): \n",
    "\n",
    "    ls = list(s)\n",
    "    s2 = []\n",
    "    for i in range(len(ls)-1):\n",
    "        s2.append(ls[i]+ls[i+1])\n",
    "    \n",
    "    alpha = 0.95\n",
    "\n",
    "    fofe = FofeVectorizer(alpha)\n",
    "    features = fofe.naive_transform([s2], vocab_dic_fofe)\n",
    "    features_rev = fofe.naive_transform([list(reversed(s2))], vocab_dic_fofe)\n",
    "\n",
    "    # normalize feature matrix by subtracting each value by mean/std\n",
    "    for i in range(len(features)):\n",
    "        tmp_ls = np.array(features[i])\n",
    "        tmp_std = np.std(tmp_ls, dtype=np.float32)\n",
    "        tmp_mean = np.mean(tmp_ls, dtype=np.float32)\n",
    "        for j in range(len(tmp_ls)):\n",
    "            features[i][j]=tmp_ls[j]-tmp_mean/tmp_std\n",
    "\n",
    "    # normalize feature matrix by subtracting each value by mean/std\n",
    "    for i in range(len(features_rev)):\n",
    "        tmp_ls = np.array(features_rev[i])\n",
    "        tmp_std = np.std(tmp_ls, dtype=np.float32)\n",
    "        tmp_mean = np.mean(tmp_ls, dtype=np.float32)\n",
    "        for j in range(len(tmp_ls)):\n",
    "            features_rev[i][j]=tmp_ls[j]-tmp_mean/tmp_std\n",
    "\n",
    "    # Combine features and features_rev\n",
    "    features_new = []\n",
    "    for i in range(len(features)):\n",
    "        features_new.append(np.concatenate((features[i],features_rev[i])))\n",
    "\n",
    "    X = np.array(features_new)\n",
    "\n",
    "    return X"
   ]
  },
  {
   "cell_type": "raw",
   "metadata": {},
   "source": [
    "# serialize model to JSON\n",
    "model_json = model.to_json()\n",
    "with open(\"type.json\", \"w\") as json_file:\n",
    "    json_file.write(model_json)\n",
    "# serialize weights to HDF5\n",
    "model.save_weights(\"type.h5\")\n",
    "print(\"Saved model to disk\")"
   ]
  },
  {
   "cell_type": "code",
   "execution_count": 4,
   "metadata": {
    "ExecuteTime": {
     "end_time": "2018-06-05T07:05:13.398461Z",
     "start_time": "2018-06-05T07:05:11.797511Z"
    }
   },
   "outputs": [
    {
     "name": "stdout",
     "output_type": "stream",
     "text": [
      "Loaded model from disk\n"
     ]
    }
   ],
   "source": [
    "# later...\n",
    "from keras.models import model_from_json\n",
    "# load json and create model\n",
    "json_file = open('./models/metal_predict.json', 'r')\n",
    "loaded_model_json = json_file.read()\n",
    "json_file.close()\n",
    "\n",
    "model = model_from_json(loaded_model_json)\n",
    "# load weights into new model\n",
    "model.load_weights(\"./models/metal_predict.h5\")\n",
    "print(\"Loaded model from disk\")"
   ]
  },
  {
   "cell_type": "code",
   "execution_count": 5,
   "metadata": {
    "ExecuteTime": {
     "end_time": "2018-06-05T07:05:14.342345Z",
     "start_time": "2018-06-05T07:05:13.400417Z"
    }
   },
   "outputs": [
    {
     "data": {
      "text/plain": [
       "array([[  5.97876846e-04,   1.53844003e-02,   1.01810216e-25,\n",
       "          3.37811054e-15,   1.98241618e-10,   2.76620726e-09,\n",
       "          7.61804283e-02,   9.07837272e-01]], dtype=float32)"
      ]
     },
     "execution_count": 5,
     "metadata": {},
     "output_type": "execute_result"
    }
   ],
   "source": [
    "model.predict(FOFE(seqs[x]))"
   ]
  },
  {
   "cell_type": "code",
   "execution_count": null,
   "metadata": {
    "collapsed": true
   },
   "outputs": [],
   "source": []
  }
 ],
 "metadata": {
  "kernelspec": {
   "display_name": "Python 3",
   "language": "python",
   "name": "python3"
  },
  "language_info": {
   "codemirror_mode": {
    "name": "ipython",
    "version": 3
   },
   "file_extension": ".py",
   "mimetype": "text/x-python",
   "name": "python",
   "nbconvert_exporter": "python",
   "pygments_lexer": "ipython3",
   "version": "3.6.3"
  },
  "varInspector": {
   "cols": {
    "lenName": 16,
    "lenType": 16,
    "lenVar": 40
   },
   "kernels_config": {
    "python": {
     "delete_cmd_postfix": "",
     "delete_cmd_prefix": "del ",
     "library": "var_list.py",
     "varRefreshCmd": "print(var_dic_list())"
    },
    "r": {
     "delete_cmd_postfix": ") ",
     "delete_cmd_prefix": "rm(",
     "library": "var_list.r",
     "varRefreshCmd": "cat(var_dic_list()) "
    }
   },
   "types_to_exclude": [
    "module",
    "function",
    "builtin_function_or_method",
    "instance",
    "_Feature"
   ],
   "window_display": false
  }
 },
 "nbformat": 4,
 "nbformat_minor": 2
}
