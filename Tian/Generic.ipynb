{
 "cells": [
  {
   "cell_type": "markdown",
   "metadata": {},
   "source": [
    "### Prepossessing"
   ]
  },
  {
   "cell_type": "code",
   "execution_count": 8,
   "metadata": {
    "ExecuteTime": {
     "end_time": "2018-04-18T22:21:37.301586Z",
     "start_time": "2018-04-18T22:21:37.033874Z"
    },
    "collapsed": true
   },
   "outputs": [],
   "source": [
    "import numpy as np\n",
    "import pandas as pd\n",
    "\n",
    "df = pd.read_parquet('Metal_all_20180116.snappy.parquet')\n",
    "# print ('***** Data Types *****' + '\\n' + str(df.dtypes) + '\\n\\n' + \n",
    "#        '***** Unique Ligands *****' + '\\n' + str(df.ligandId.unique()))\n",
    "\n",
    "# Extract zinc-binded, single-chained protein sequences\n",
    "df_zn = df.loc[df['ligandId'] == 'ZN']\n",
    "df_zn_single = df_zn.loc[df_zn['interactingChains'] == 1]\n",
    "seqs = np.array(df_zn_single.sequence)\n",
    "target = np.array(df_zn_single.fingerprint)"
   ]
  },
  {
   "cell_type": "code",
   "execution_count": 21,
   "metadata": {
    "ExecuteTime": {
     "end_time": "2018-04-18T22:30:54.462005Z",
     "start_time": "2018-04-18T22:30:54.455990Z"
    }
   },
   "outputs": [
    {
     "name": "stdout",
     "output_type": "stream",
     "text": [
      "0        MN\n",
      "1        CA\n",
      "2        CA\n",
      "3        CA\n",
      "4        MG\n",
      "5        ZN\n",
      "6        ZN\n",
      "7        ZN\n",
      "8        CU\n",
      "9        FE\n",
      "10       MG\n",
      "11       ZN\n",
      "12       ZN\n",
      "13       ZN\n",
      "14       CA\n",
      "15       CA\n",
      "16       ZN\n",
      "17       CA\n",
      "18       CA\n",
      "19       CA\n",
      "20       CA\n",
      "21       CA\n",
      "22       CA\n",
      "23       ZN\n",
      "24       CA\n",
      "25       MN\n",
      "26       CA\n",
      "27       ZN\n",
      "28       FE\n",
      "29       CA\n",
      "         ..\n",
      "76327    MN\n",
      "76328    ZN\n",
      "76329    ZN\n",
      "76330    ZN\n",
      "76331    ZN\n",
      "76332    MN\n",
      "76333    ZN\n",
      "76334    ZN\n",
      "76335    ZN\n",
      "76336    MN\n",
      "76337    MN\n",
      "76338    NI\n",
      "76339    ZN\n",
      "76340    ZN\n",
      "76341    ZN\n",
      "76342    ZN\n",
      "76343    ZN\n",
      "76344    FE\n",
      "76345    CA\n",
      "76346    ZN\n",
      "76347    ZN\n",
      "76348    ZN\n",
      "76349    ZN\n",
      "76350    MG\n",
      "76351    MG\n",
      "76352    CA\n",
      "76353    CA\n",
      "76354    MG\n",
      "76355    ZN\n",
      "76356    ZN\n",
      "Name: ligandId, Length: 76357, dtype: object\n"
     ]
    }
   ],
   "source": [
    "print (df['ligandId'])"
   ]
  },
  {
   "cell_type": "code",
   "execution_count": 15,
   "metadata": {
    "ExecuteTime": {
     "end_time": "2018-04-18T22:25:56.102254Z",
     "start_time": "2018-04-18T22:25:56.084207Z"
    },
    "scrolled": true
   },
   "outputs": [
    {
     "data": {
      "text/html": [
       "<div>\n",
       "<style scoped>\n",
       "    .dataframe tbody tr th:only-of-type {\n",
       "        vertical-align: middle;\n",
       "    }\n",
       "\n",
       "    .dataframe tbody tr th {\n",
       "        vertical-align: top;\n",
       "    }\n",
       "\n",
       "    .dataframe thead th {\n",
       "        text-align: right;\n",
       "    }\n",
       "</style>\n",
       "<table border=\"1\" class=\"dataframe\">\n",
       "  <thead>\n",
       "    <tr style=\"text-align: right;\">\n",
       "      <th></th>\n",
       "      <th>structureChainId</th>\n",
       "      <th>ligandId</th>\n",
       "      <th>fingerprint</th>\n",
       "      <th>groupNumber</th>\n",
       "      <th>sequence</th>\n",
       "      <th>interactingChains</th>\n",
       "      <th>clusterNumber30</th>\n",
       "      <th>clusterNumber40</th>\n",
       "      <th>clusterNumber50</th>\n",
       "      <th>clusterNumber70</th>\n",
       "      <th>clusterNumber90</th>\n",
       "      <th>clusterNumber95</th>\n",
       "      <th>clusterNumber100</th>\n",
       "    </tr>\n",
       "  </thead>\n",
       "  <tbody>\n",
       "    <tr>\n",
       "      <th>0</th>\n",
       "      <td>1A0O.A</td>\n",
       "      <td>MN</td>\n",
       "      <td>[11, 55, 57]</td>\n",
       "      <td>[13, 57, 59]</td>\n",
       "      <td>ADKELKFLVVDDFSTMRRIVRNLLKELGFNNVEEAEDGVDALNKLQ...</td>\n",
       "      <td>1</td>\n",
       "      <td>115.0</td>\n",
       "      <td>386.0</td>\n",
       "      <td>404.0</td>\n",
       "      <td>371.0</td>\n",
       "      <td>325.0</td>\n",
       "      <td>313.0</td>\n",
       "      <td>1621.0</td>\n",
       "    </tr>\n",
       "    <tr>\n",
       "      <th>1</th>\n",
       "      <td>1A25.A</td>\n",
       "      <td>CA</td>\n",
       "      <td>[107, 110, 111, 113]</td>\n",
       "      <td>[248, 251, 252, 254]</td>\n",
       "      <td>GSPGISGGGGGILDSMERRGRIYIQAHIDREVLIVVVRDAKNLVPM...</td>\n",
       "      <td>2</td>\n",
       "      <td>632.0</td>\n",
       "      <td>5212.0</td>\n",
       "      <td>24455.0</td>\n",
       "      <td>28660.0</td>\n",
       "      <td>32138.0</td>\n",
       "      <td>33630.0</td>\n",
       "      <td>44596.0</td>\n",
       "    </tr>\n",
       "    <tr>\n",
       "      <th>2</th>\n",
       "      <td>1A25.A</td>\n",
       "      <td>CA</td>\n",
       "      <td>[45, 46, 105, 107, 113]</td>\n",
       "      <td>[186, 187, 246, 248, 254]</td>\n",
       "      <td>GSPGISGGGGGILDSMERRGRIYIQAHIDREVLIVVVRDAKNLVPM...</td>\n",
       "      <td>2</td>\n",
       "      <td>632.0</td>\n",
       "      <td>5212.0</td>\n",
       "      <td>24455.0</td>\n",
       "      <td>28660.0</td>\n",
       "      <td>32138.0</td>\n",
       "      <td>33630.0</td>\n",
       "      <td>44596.0</td>\n",
       "    </tr>\n",
       "    <tr>\n",
       "      <th>3</th>\n",
       "      <td>1A25.A</td>\n",
       "      <td>CA</td>\n",
       "      <td>[46, 52, 105, 106, 107]</td>\n",
       "      <td>[187, 193, 246, 247, 248]</td>\n",
       "      <td>GSPGISGGGGGILDSMERRGRIYIQAHIDREVLIVVVRDAKNLVPM...</td>\n",
       "      <td>1</td>\n",
       "      <td>632.0</td>\n",
       "      <td>5212.0</td>\n",
       "      <td>24455.0</td>\n",
       "      <td>28660.0</td>\n",
       "      <td>32138.0</td>\n",
       "      <td>33630.0</td>\n",
       "      <td>44596.0</td>\n",
       "    </tr>\n",
       "    <tr>\n",
       "      <th>4</th>\n",
       "      <td>1AJD.B</td>\n",
       "      <td>MG</td>\n",
       "      <td>[50, 154, 321]</td>\n",
       "      <td>[51, 155, 322]</td>\n",
       "      <td>TPEMPVLENRAAQGDITAPGGARRLTGDQTAALRDSLSDKPAKNII...</td>\n",
       "      <td>1</td>\n",
       "      <td>584.0</td>\n",
       "      <td>592.0</td>\n",
       "      <td>555.0</td>\n",
       "      <td>515.0</td>\n",
       "      <td>485.0</td>\n",
       "      <td>444.0</td>\n",
       "      <td>8044.0</td>\n",
       "    </tr>\n",
       "  </tbody>\n",
       "</table>\n",
       "</div>"
      ],
      "text/plain": [
       "  structureChainId ligandId              fingerprint  \\\n",
       "0           1A0O.A       MN             [11, 55, 57]   \n",
       "1           1A25.A       CA     [107, 110, 111, 113]   \n",
       "2           1A25.A       CA  [45, 46, 105, 107, 113]   \n",
       "3           1A25.A       CA  [46, 52, 105, 106, 107]   \n",
       "4           1AJD.B       MG           [50, 154, 321]   \n",
       "\n",
       "                 groupNumber  \\\n",
       "0               [13, 57, 59]   \n",
       "1       [248, 251, 252, 254]   \n",
       "2  [186, 187, 246, 248, 254]   \n",
       "3  [187, 193, 246, 247, 248]   \n",
       "4             [51, 155, 322]   \n",
       "\n",
       "                                            sequence  interactingChains  \\\n",
       "0  ADKELKFLVVDDFSTMRRIVRNLLKELGFNNVEEAEDGVDALNKLQ...                  1   \n",
       "1  GSPGISGGGGGILDSMERRGRIYIQAHIDREVLIVVVRDAKNLVPM...                  2   \n",
       "2  GSPGISGGGGGILDSMERRGRIYIQAHIDREVLIVVVRDAKNLVPM...                  2   \n",
       "3  GSPGISGGGGGILDSMERRGRIYIQAHIDREVLIVVVRDAKNLVPM...                  1   \n",
       "4  TPEMPVLENRAAQGDITAPGGARRLTGDQTAALRDSLSDKPAKNII...                  1   \n",
       "\n",
       "   clusterNumber30  clusterNumber40  clusterNumber50  clusterNumber70  \\\n",
       "0            115.0            386.0            404.0            371.0   \n",
       "1            632.0           5212.0          24455.0          28660.0   \n",
       "2            632.0           5212.0          24455.0          28660.0   \n",
       "3            632.0           5212.0          24455.0          28660.0   \n",
       "4            584.0            592.0            555.0            515.0   \n",
       "\n",
       "   clusterNumber90  clusterNumber95  clusterNumber100  \n",
       "0            325.0            313.0            1621.0  \n",
       "1          32138.0          33630.0           44596.0  \n",
       "2          32138.0          33630.0           44596.0  \n",
       "3          32138.0          33630.0           44596.0  \n",
       "4            485.0            444.0            8044.0  "
      ]
     },
     "metadata": {},
     "output_type": "display_data"
    }
   ],
   "source": [
    "display(df[0:5])"
   ]
  },
  {
   "cell_type": "code",
   "execution_count": 5,
   "metadata": {
    "ExecuteTime": {
     "end_time": "2018-04-18T22:21:16.296652Z",
     "start_time": "2018-04-18T22:21:15.674629Z"
    },
    "collapsed": true
   },
   "outputs": [],
   "source": [
    "del df,df_zn,df_zn_single"
   ]
  },
  {
   "cell_type": "code",
   "execution_count": null,
   "metadata": {
    "collapsed": true
   },
   "outputs": [],
   "source": [
    "# Filepaths\n",
    "dict_path = \"./dictionaries/\"\n",
    "model_path = \"./models/\"\n",
    "hist_path = \"./histories/\"\n",
    "fig_path = \"./figs/\""
   ]
  },
  {
   "cell_type": "code",
   "execution_count": null,
   "metadata": {
    "collapsed": true
   },
   "outputs": [],
   "source": [
    "# Load\n",
    "seqs_dict = {}\n",
    "with open(dict_path + \"seq_n_gram_to_vec_dict_w_UX\", 'r') as fp:\n",
    "        seqs_dict = json.load(fp)\n",
    "\n",
    "seqs_dict_onehot = {}\n",
    "with open(dict_path + \"seqs_dict_onehot\", 'r') as fp:\n",
    "        seqs_dict_onehot = json.load(fp)"
   ]
  },
  {
   "cell_type": "markdown",
   "metadata": {},
   "source": [
    "#### Data Generator"
   ]
  },
  {
   "cell_type": "code",
   "execution_count": 3,
   "metadata": {
    "ExecuteTime": {
     "end_time": "2018-04-18T19:27:51.791084Z",
     "start_time": "2018-04-18T19:27:51.788075Z"
    },
    "collapsed": true
   },
   "outputs": [],
   "source": [
    "params = {'dim': (32,32,32),\n",
    "          'batch_size': 64,\n",
    "          'n_classes': 6,\n",
    "          'n_channels': 1,\n",
    "          'shuffle': True}"
   ]
  },
  {
   "cell_type": "code",
   "execution_count": 4,
   "metadata": {
    "ExecuteTime": {
     "end_time": "2018-04-18T20:40:37.128079Z",
     "start_time": "2018-04-18T20:40:37.070926Z"
    }
   },
   "outputs": [],
   "source": [
    "# params: input_shape, batch_size, shuffle, classes/labels\n",
    "class myGenerator():\n",
    "    def __init__(self, list_IDs, labels, batch_size=32, dim=(32,32,32), n_channels=1, n_classes=2, shuffle=True):\n",
    "        self.dim = dim\n",
    "        self.batch_size = batch_size\n",
    "        self.labels = labels\n",
    "        self.list_IDs = list_IDs\n",
    "        self.n_channels = n_channels\n",
    "        self.n_classes = n_classes\n",
    "        self.shuffle = shuffle\n",
    "        self.on_epoch_end()\n",
    "        \n",
    "    def __len__(self):\n",
    "        return int(np.floor(len(self.list_IDs) / self.batch_size))\n",
    "\n",
    "    def __getitem__(self, index):\n",
    "        # Generate indexes of the batch\n",
    "        indexes = self.indexes[index*self.batch_size:(index+1)*self.batch_size]\n",
    "\n",
    "        # Find list of IDs\n",
    "        list_IDs_temp = [self.list_IDs[k] for k in indexes]\n",
    "\n",
    "        # Generate data\n",
    "        X, y = self.__data_generation(list_IDs_temp)\n",
    "        return X, y\n",
    "    \n",
    "    def on_epoch_end(self):\n",
    "        self.indexes = np.arange(len(self.list_IDs))\n",
    "        if self.shuffle == True:\n",
    "            np.random.shuffle(self.indexes)\n",
    "        \n",
    "    def __data_generation(self, list_IDs_temp):\n",
    "        #   'Generates data containing batch_size samples' # X : (n_samples, *dim, n_channels)\n",
    "        # Initialization\n",
    "        X = np.empty((self.batch_size, *self.dim, self.n_channels))\n",
    "        y = np.empty((self.batch_size), dtype=int)\n",
    "        # Generate data\n",
    "        for i, ID in enumerate(list_IDs_temp):\n",
    "            # Store sample\n",
    "            X[i,] = np.load('data/' + ID + '.npy')\n",
    "\n",
    "            # Store class\n",
    "            y[i] = self.labels[ID]\n",
    "        return X, keras.utils.to_categorical(y, num_classes=self.n_classes) \n",
    "    def get_params(self):\n",
    "        return {'dim': self.dim,\n",
    "                'batch_size': self.batch_size,\n",
    "                'n_classes': self.n_classes,\n",
    "                'n_channels': self.n_channels,\n",
    "                'shuffle': self.shuffle}"
   ]
  },
  {
   "cell_type": "markdown",
   "metadata": {},
   "source": [
    "### Input"
   ]
  },
  {
   "cell_type": "code",
   "execution_count": null,
   "metadata": {
    "collapsed": true
   },
   "outputs": [],
   "source": [
    "class myInput():\n",
    "    def _init_(self, generator):\n",
    "        self.generator = generator\n",
    "        self.params = generator.get_params()\n",
    "        \n",
    "    def get_params(self):\n",
    "        return self.params"
   ]
  },
  {
   "cell_type": "markdown",
   "metadata": {},
   "source": [
    "### Model"
   ]
  },
  {
   "cell_type": "code",
   "execution_count": null,
   "metadata": {
    "collapsed": true
   },
   "outputs": [],
   "source": [
    "model_params = {'num_of_inputs' : 1,\n",
    "                'output_dim' : 706,\n",
    "                'optimizer' : Adam(),\n",
    "                'callback' : myCallback\n",
    "                'fold_size' : 500,\n",
    "                'epoch_size' : 10,\n",
    "                'loss' : 'binary_crossentropy'}"
   ]
  },
  {
   "cell_type": "code",
   "execution_count": null,
   "metadata": {
    "collapsed": true
   },
   "outputs": [],
   "source": [
    "class myModel():\n",
    "    def _init_(self, myInput, userModel, model_params = {}):\n",
    "        self.config = myInput.get_config\n",
    "        self.model_param = model_params\n",
    "        self.userModel = userModel\n",
    "        \n",
    "    def create_model(self):\n",
    "        \n",
    "    def train(self):\n",
    "        self.create_model()\n",
    "        \n",
    "    "
   ]
  },
  {
   "cell_type": "markdown",
   "metadata": {},
   "source": [
    "### Evaluation"
   ]
  },
  {
   "cell_type": "code",
   "execution_count": null,
   "metadata": {
    "collapsed": true
   },
   "outputs": [],
   "source": []
  }
 ],
 "metadata": {
  "kernelspec": {
   "display_name": "Python 3",
   "language": "python",
   "name": "python3"
  },
  "language_info": {
   "codemirror_mode": {
    "name": "ipython",
    "version": 3
   },
   "file_extension": ".py",
   "mimetype": "text/x-python",
   "name": "python",
   "nbconvert_exporter": "python",
   "pygments_lexer": "ipython3",
   "version": "3.6.3"
  },
  "varInspector": {
   "cols": {
    "lenName": 16,
    "lenType": 16,
    "lenVar": 40
   },
   "kernels_config": {
    "python": {
     "delete_cmd_postfix": "",
     "delete_cmd_prefix": "del ",
     "library": "var_list.py",
     "varRefreshCmd": "print(var_dic_list())"
    },
    "r": {
     "delete_cmd_postfix": ") ",
     "delete_cmd_prefix": "rm(",
     "library": "var_list.r",
     "varRefreshCmd": "cat(var_dic_list()) "
    }
   },
   "types_to_exclude": [
    "module",
    "function",
    "builtin_function_or_method",
    "instance",
    "_Feature"
   ],
   "window_display": false
  }
 },
 "nbformat": 4,
 "nbformat_minor": 2
}
