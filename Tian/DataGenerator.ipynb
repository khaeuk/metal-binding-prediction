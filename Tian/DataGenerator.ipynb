{
 "cells": [
  {
   "cell_type": "code",
   "execution_count": 15,
   "metadata": {
    "ExecuteTime": {
     "end_time": "2018-04-19T07:13:54.449459Z",
     "start_time": "2018-04-19T07:13:54.352198Z"
    }
   },
   "outputs": [],
   "source": [
    "import numpy as np\n",
    "import keras\n",
    "\n",
    "class OneHotGenerator(keras.utils.Sequence):\n",
    "    \n",
    "    'Gererate data for Keras'\n",
    "    def __init__(self, \n",
    "                 sequences, \n",
    "                 labels, \n",
    "                 translator, \n",
    "                 batch_size = 100, \n",
    "                 input_shape=(706,20),\n",
    "                 label_shape=(706,1),\n",
    "                 shuffle=True):\n",
    "        'Initialization'\n",
    "        self.sequences = sequences\n",
    "        self.labels = labels\n",
    "        self.translator = translator\n",
    "        \n",
    "        self.batch_size = batch_size\n",
    "        self.input_shape = input_shape\n",
    "        self.label_shape = label_shape\n",
    "        self.shuffle = shuffle\n",
    "        \n",
    "        self.on_epoch_end()\n",
    "    \n",
    "    def __len__(self):\n",
    "        'Get the number of batches per epoch'\n",
    "        return int(np.floor(len(self.sequences))/self.batch_size)\n",
    "        \n",
    "    def __getitem__(self, index):\n",
    "        'Generate one batch of data'\n",
    "        indices = self.indices[index*self.batch_size:(index+1)*self.batch_size]\n",
    "        \n",
    "        sequences_temp = [self.sequences[k] for k in indices]\n",
    "        labels_temp = [self.labels[k] for k in indices]\n",
    "        \n",
    "        X, y = self.generate_data(sequences_temp, labels_temp)\n",
    "        return X, y\n",
    "        \n",
    "    def on_epoch_end(self):\n",
    "        'Update indices at the end of each epoch'\n",
    "        self.indices = np.arange(len(self.sequences))\n",
    "        if self.shuffle == True:\n",
    "            np.random.shuffle(self.indices)\n",
    "            \n",
    "    def generate_data(self, sequences_temp, labels_temp):\n",
    "        'Populate input and label tensors'\n",
    "        \n",
    "        X = np.zeros((self.batch_size, *self.input_shape))\n",
    "        y = np.zeros((self.batch_size, *self.label_shape), dtype=int)\n",
    "        \n",
    "        print ('X_shape', X.shape)\n",
    "        print ('y_shape', y.shape)\n",
    "        \n",
    "        for i, seq in enumerate(sequences_temp):\n",
    "            \n",
    "            # Your own implementation comes here\n",
    "            for j, c in enumerate(seq):\n",
    "                X[i,j,] = np.array(self.translator[c])\n",
    "                \n",
    "            for j, f in enumerate(labels_temp[i]):\n",
    "                y[i,f,self.label_shape[-1]-1] = 1\n",
    "            \n",
    "        return X, y\n",
    "        "
   ]
  },
  {
   "cell_type": "code",
   "execution_count": null,
   "metadata": {
    "collapsed": true
   },
   "outputs": [],
   "source": []
  }
 ],
 "metadata": {
  "kernelspec": {
   "display_name": "Python 3",
   "language": "python",
   "name": "python3"
  },
  "language_info": {
   "codemirror_mode": {
    "name": "ipython",
    "version": 3
   },
   "file_extension": ".py",
   "mimetype": "text/x-python",
   "name": "python",
   "nbconvert_exporter": "python",
   "pygments_lexer": "ipython3",
   "version": "3.6.3"
  },
  "varInspector": {
   "cols": {
    "lenName": 16,
    "lenType": 16,
    "lenVar": 40
   },
   "kernels_config": {
    "python": {
     "delete_cmd_postfix": "",
     "delete_cmd_prefix": "del ",
     "library": "var_list.py",
     "varRefreshCmd": "print(var_dic_list())"
    },
    "r": {
     "delete_cmd_postfix": ") ",
     "delete_cmd_prefix": "rm(",
     "library": "var_list.r",
     "varRefreshCmd": "cat(var_dic_list()) "
    }
   },
   "types_to_exclude": [
    "module",
    "function",
    "builtin_function_or_method",
    "instance",
    "_Feature"
   ],
   "window_display": false
  }
 },
 "nbformat": 4,
 "nbformat_minor": 2
}
