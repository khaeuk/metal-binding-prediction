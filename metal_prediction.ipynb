{
 "cells": [
  {
   "cell_type": "markdown",
   "metadata": {},
   "source": [
    "## Preprocessing"
   ]
  },
  {
   "cell_type": "code",
   "execution_count": 1,
   "metadata": {
    "ExecuteTime": {
     "end_time": "2018-06-06T18:16:12.756820Z",
     "start_time": "2018-06-06T18:16:12.751860Z"
    },
    "collapsed": true
   },
   "outputs": [],
   "source": [
    "user = ''\n",
    "model_name = 'metal_prediction_CNN'"
   ]
  },
  {
   "cell_type": "code",
   "execution_count": 2,
   "metadata": {
    "ExecuteTime": {
     "end_time": "2018-06-06T18:16:16.072684Z",
     "start_time": "2018-06-06T18:16:14.041497Z"
    }
   },
   "outputs": [
    {
     "name": "stdout",
     "output_type": "stream",
     "text": [
      "Initializing global variables... Done\n",
      "  Filepath set to ./logs/\n",
      "Importing modules... "
     ]
    },
    {
     "name": "stderr",
     "output_type": "stream",
     "text": [
      "Using TensorFlow backend.\n"
     ]
    },
    {
     "name": "stdout",
     "output_type": "stream",
     "text": [
      "Done\n",
      "Reading data from disk... {'CA', 'FE', 'MG', 'ZN', 'CO', 'CU', 'NI', 'MN'}\n",
      "Done\n",
      "Loading dictionaries... Done\n",
      "Performing cross validation split... Done\n",
      "  Ratio : 0.9\n",
      "  Train_range : 0 - 52385\n",
      "  Val_range : 52386 - 58206\n"
     ]
    }
   ],
   "source": [
    "import sys\n",
    "import json\n",
    "\n",
    "print (\"Initializing global variables...\", end=' ')\n",
    "sys.stdout.flush()\n",
    "\n",
    "# Filepaths\n",
    "output_file = './logs/results.txt'\n",
    "hist_path = model_path = fig_path = './logs/'\n",
    "dict_path = './dictionaries/'\n",
    "\n",
    "print (\"Done\")\n",
    "print (\"  Filepath set to ./logs/\")\n",
    "\n",
    "##################################################\n",
    "\n",
    "print (\"Importing modules...\", end=' ')\n",
    "import modules\n",
    "print (\"Done\")\n",
    "\n",
    "##################################################\n",
    "\n",
    "print (\"Reading data from disk...\", end=' ')\n",
    "sys.stdout.flush()\n",
    "\n",
    "import numpy as np\n",
    "import pandas as pd\n",
    "\n",
    "df = pd.read_parquet('./datasets/Metal_all_20180601.parquet')\n",
    "seqs = np.array(df.sequence)\n",
    "target = np.array(df.ligandId)\n",
    "cluster_numbers = np.array(df.clusterNumber90)\n",
    "\n",
    "print (set(target))\n",
    "\n",
    "# FOFE\n",
    "label_dict = {}\n",
    "with open(dict_path + \"metal_dict\", 'r') as fp:\n",
    "        label_dict = json.load(fp)\n",
    "\n",
    "for i in range(target.shape[0]):\n",
    "    target[i] = [label_dict[target[i]]]\n",
    "\n",
    "# with open(dict_path + \"metal_dict\", 'w') as fp:\n",
    "#     json.dump(label_dict, fp)    \n",
    "\n",
    "print (\"Done\")\n",
    "\n",
    "##################################################\n",
    "\n",
    "print (\"Loading dictionaries...\", end=' ')\n",
    "sys.stdout.flush()\n",
    "\n",
    "# FOFE\n",
    "vocab_dic_fofe = {}\n",
    "with open(dict_path + \"vocab_dict_fofe\", 'r') as fp:\n",
    "        vocab_dic_fofe = json.load(fp)\n",
    "\n",
    "print (\"Done\")\n",
    "\n",
    "##################################################\n",
    "\n",
    "print (\"Performing cross validation split...\", end=' ')\n",
    "ratio = 0.9\n",
    "split = int(ratio*len(seqs))\n",
    "train_seqs, val_seqs = seqs[:split], seqs[split:]\n",
    "train_label, val_label = target[:split], target[split:]\n",
    "print (\"Done\")\n",
    "print (\"  Ratio :\", ratio)\n",
    "print (\"  Train_range :\", 0, \"-\", split-1)\n",
    "print (\"  Val_range :\", split, \"-\", len(seqs)-1)"
   ]
  },
  {
   "cell_type": "code",
   "execution_count": 3,
   "metadata": {
    "ExecuteTime": {
     "end_time": "2018-06-06T18:16:16.112860Z",
     "start_time": "2018-06-06T18:16:16.106908Z"
    }
   },
   "outputs": [
    {
     "name": "stdout",
     "output_type": "stream",
     "text": [
      "{'CU': 0, 'NI': 1, 'FE': 2, 'CO': 3, 'MN': 4, 'CA': 5, 'MG': 6, 'ZN': 7}\n"
     ]
    }
   ],
   "source": [
    "print (label_dict)"
   ]
  },
  {
   "cell_type": "code",
   "execution_count": 4,
   "metadata": {
    "ExecuteTime": {
     "end_time": "2018-06-06T18:16:16.225948Z",
     "start_time": "2018-06-06T18:16:16.150557Z"
    },
    "scrolled": true
   },
   "outputs": [
    {
     "data": {
      "text/html": [
       "<div>\n",
       "<style scoped>\n",
       "    .dataframe tbody tr th:only-of-type {\n",
       "        vertical-align: middle;\n",
       "    }\n",
       "\n",
       "    .dataframe tbody tr th {\n",
       "        vertical-align: top;\n",
       "    }\n",
       "\n",
       "    .dataframe thead th {\n",
       "        text-align: right;\n",
       "    }\n",
       "</style>\n",
       "<table border=\"1\" class=\"dataframe\">\n",
       "  <thead>\n",
       "    <tr style=\"text-align: right;\">\n",
       "      <th></th>\n",
       "      <th>structureChainId</th>\n",
       "      <th>fingerprint</th>\n",
       "      <th>groupNumber</th>\n",
       "      <th>sequence</th>\n",
       "      <th>interactingChains</th>\n",
       "      <th>clusterNumber30</th>\n",
       "      <th>clusterNumber40</th>\n",
       "      <th>clusterNumber50</th>\n",
       "      <th>clusterNumber70</th>\n",
       "      <th>clusterNumber90</th>\n",
       "      <th>clusterNumber95</th>\n",
       "      <th>clusterNumber100</th>\n",
       "    </tr>\n",
       "    <tr>\n",
       "      <th>ligandId</th>\n",
       "      <th></th>\n",
       "      <th></th>\n",
       "      <th></th>\n",
       "      <th></th>\n",
       "      <th></th>\n",
       "      <th></th>\n",
       "      <th></th>\n",
       "      <th></th>\n",
       "      <th></th>\n",
       "      <th></th>\n",
       "      <th></th>\n",
       "      <th></th>\n",
       "    </tr>\n",
       "  </thead>\n",
       "  <tbody>\n",
       "    <tr>\n",
       "      <th>CA</th>\n",
       "      <td>17606</td>\n",
       "      <td>17606</td>\n",
       "      <td>17606</td>\n",
       "      <td>17606</td>\n",
       "      <td>17606</td>\n",
       "      <td>17606</td>\n",
       "      <td>17606</td>\n",
       "      <td>17606</td>\n",
       "      <td>17606</td>\n",
       "      <td>17606</td>\n",
       "      <td>17606</td>\n",
       "      <td>17606</td>\n",
       "    </tr>\n",
       "    <tr>\n",
       "      <th>CO</th>\n",
       "      <td>759</td>\n",
       "      <td>759</td>\n",
       "      <td>759</td>\n",
       "      <td>759</td>\n",
       "      <td>759</td>\n",
       "      <td>759</td>\n",
       "      <td>759</td>\n",
       "      <td>759</td>\n",
       "      <td>759</td>\n",
       "      <td>759</td>\n",
       "      <td>759</td>\n",
       "      <td>759</td>\n",
       "    </tr>\n",
       "    <tr>\n",
       "      <th>CU</th>\n",
       "      <td>2143</td>\n",
       "      <td>2143</td>\n",
       "      <td>2143</td>\n",
       "      <td>2143</td>\n",
       "      <td>2143</td>\n",
       "      <td>2143</td>\n",
       "      <td>2143</td>\n",
       "      <td>2143</td>\n",
       "      <td>2143</td>\n",
       "      <td>2143</td>\n",
       "      <td>2143</td>\n",
       "      <td>2143</td>\n",
       "    </tr>\n",
       "    <tr>\n",
       "      <th>FE</th>\n",
       "      <td>2989</td>\n",
       "      <td>2989</td>\n",
       "      <td>2989</td>\n",
       "      <td>2989</td>\n",
       "      <td>2989</td>\n",
       "      <td>2989</td>\n",
       "      <td>2989</td>\n",
       "      <td>2989</td>\n",
       "      <td>2989</td>\n",
       "      <td>2989</td>\n",
       "      <td>2989</td>\n",
       "      <td>2989</td>\n",
       "    </tr>\n",
       "    <tr>\n",
       "      <th>MG</th>\n",
       "      <td>8336</td>\n",
       "      <td>8336</td>\n",
       "      <td>8336</td>\n",
       "      <td>8336</td>\n",
       "      <td>8336</td>\n",
       "      <td>8336</td>\n",
       "      <td>8336</td>\n",
       "      <td>8336</td>\n",
       "      <td>8336</td>\n",
       "      <td>8336</td>\n",
       "      <td>8336</td>\n",
       "      <td>8336</td>\n",
       "    </tr>\n",
       "    <tr>\n",
       "      <th>MN</th>\n",
       "      <td>4688</td>\n",
       "      <td>4688</td>\n",
       "      <td>4688</td>\n",
       "      <td>4688</td>\n",
       "      <td>4688</td>\n",
       "      <td>4688</td>\n",
       "      <td>4688</td>\n",
       "      <td>4688</td>\n",
       "      <td>4688</td>\n",
       "      <td>4688</td>\n",
       "      <td>4688</td>\n",
       "      <td>4688</td>\n",
       "    </tr>\n",
       "    <tr>\n",
       "      <th>NI</th>\n",
       "      <td>1073</td>\n",
       "      <td>1073</td>\n",
       "      <td>1073</td>\n",
       "      <td>1073</td>\n",
       "      <td>1073</td>\n",
       "      <td>1073</td>\n",
       "      <td>1073</td>\n",
       "      <td>1073</td>\n",
       "      <td>1073</td>\n",
       "      <td>1073</td>\n",
       "      <td>1073</td>\n",
       "      <td>1073</td>\n",
       "    </tr>\n",
       "    <tr>\n",
       "      <th>ZN</th>\n",
       "      <td>20613</td>\n",
       "      <td>20613</td>\n",
       "      <td>20613</td>\n",
       "      <td>20613</td>\n",
       "      <td>20613</td>\n",
       "      <td>20613</td>\n",
       "      <td>20613</td>\n",
       "      <td>20613</td>\n",
       "      <td>20613</td>\n",
       "      <td>20613</td>\n",
       "      <td>20613</td>\n",
       "      <td>20613</td>\n",
       "    </tr>\n",
       "  </tbody>\n",
       "</table>\n",
       "</div>"
      ],
      "text/plain": [
       "          structureChainId  fingerprint  groupNumber  sequence  \\\n",
       "ligandId                                                         \n",
       "CA                   17606        17606        17606     17606   \n",
       "CO                     759          759          759       759   \n",
       "CU                    2143         2143         2143      2143   \n",
       "FE                    2989         2989         2989      2989   \n",
       "MG                    8336         8336         8336      8336   \n",
       "MN                    4688         4688         4688      4688   \n",
       "NI                    1073         1073         1073      1073   \n",
       "ZN                   20613        20613        20613     20613   \n",
       "\n",
       "          interactingChains  clusterNumber30  clusterNumber40  \\\n",
       "ligandId                                                        \n",
       "CA                    17606            17606            17606   \n",
       "CO                      759              759              759   \n",
       "CU                     2143             2143             2143   \n",
       "FE                     2989             2989             2989   \n",
       "MG                     8336             8336             8336   \n",
       "MN                     4688             4688             4688   \n",
       "NI                     1073             1073             1073   \n",
       "ZN                    20613            20613            20613   \n",
       "\n",
       "          clusterNumber50  clusterNumber70  clusterNumber90  clusterNumber95  \\\n",
       "ligandId                                                                       \n",
       "CA                  17606            17606            17606            17606   \n",
       "CO                    759              759              759              759   \n",
       "CU                   2143             2143             2143             2143   \n",
       "FE                   2989             2989             2989             2989   \n",
       "MG                   8336             8336             8336             8336   \n",
       "MN                   4688             4688             4688             4688   \n",
       "NI                   1073             1073             1073             1073   \n",
       "ZN                  20613            20613            20613            20613   \n",
       "\n",
       "          clusterNumber100  \n",
       "ligandId                    \n",
       "CA                   17606  \n",
       "CO                     759  \n",
       "CU                    2143  \n",
       "FE                    2989  \n",
       "MG                    8336  \n",
       "MN                    4688  \n",
       "NI                    1073  \n",
       "ZN                   20613  "
      ]
     },
     "execution_count": 4,
     "metadata": {},
     "output_type": "execute_result"
    }
   ],
   "source": [
    "df.groupby('ligandId').count()"
   ]
  },
  {
   "cell_type": "markdown",
   "metadata": {},
   "source": [
    "## Data Generator\n",
    "\n",
    "- <font color=blue>FOFE Encoding</font>"
   ]
  },
  {
   "cell_type": "code",
   "execution_count": null,
   "metadata": {
    "collapsed": true
   },
   "outputs": [],
   "source": [
    "train_args = {'sequences': train_seqs,\n",
    "              'labels': train_label,\n",
    "              'translator': vocab_dic_fofe}\n",
    "val_args = {'sequences': val_seqs,\n",
    "            'labels': val_label,\n",
    "            'translator': vocab_dic_fofe}\n",
    "common_args = {'batch_size': 100,\n",
    "               'input_shape': (800,),\n",
    "               'label_shape': (8, ),\n",
    "               'shuffle': True}\n",
    "\n",
    "train_gen = modules.FOFEGenerator(**train_args, **common_args)\n",
    "val_gen = modules.FOFEGenerator(**val_args, **common_args)"
   ]
  },
  {
   "cell_type": "markdown",
   "metadata": {},
   "source": [
    "## Model\n",
    "- <font color=blue>CNN</font>"
   ]
  },
  {
   "cell_type": "code",
   "execution_count": null,
   "metadata": {
    "collapsed": true
   },
   "outputs": [],
   "source": [
    "# ProtVec:100, One-hot:20, blosum62:20, property:7\n",
    "dimension = 800\n",
    "cutoff = 8\n",
    "\n",
    "import tensorflow as tf\n",
    "import time\n",
    "import matplotlib.pyplot as plt\n",
    "% matplotlib inline\n",
    "np.random.seed(2017) \n",
    "from keras.models import Sequential, Model\n",
    "from keras.layers.convolutional import Convolution2D, MaxPooling2D, Convolution1D, MaxPooling1D, AveragePooling2D\n",
    "from keras.layers import Activation, Flatten, Dense, Dropout, Reshape, Embedding, Input\n",
    "from keras.layers.normalization import BatchNormalization\n",
    "from keras.utils import np_utils\n",
    "from keras.optimizers import SGD\n",
    "import numpy as np\n",
    "import keras\n",
    "from keras.models import Model, load_model\n",
    "from keras.optimizers import Adam, SGD, RMSprop\n",
    "# Visualization\n",
    "from keras.utils import plot_model\n",
    "\n",
    "input_shape = (dimension,)\n",
    "\n",
    "input_0 = Input(shape=input_shape, dtype='float32')\n",
    "input_0_reshape = Reshape((1,dimension,1), input_shape=(dimension,))(input_0)\n",
    "conv2d_3 = Convolution2D(2, 1, 3, border_mode='same')(input_0_reshape)\n",
    "conv2d_5 = Convolution2D(2, 1, 5, border_mode='same')(input_0_reshape)\n",
    "conv2d_7 = Convolution2D(2, 1, 7, border_mode='same')(input_0_reshape)\n",
    "\n",
    "x = keras.layers.concatenate([conv2d_3,conv2d_5,conv2d_7])\n",
    "x = Activation('relu')(x)\n",
    "x = Flatten()(x)\n",
    "x = Dense(cutoff, activation='relu')(x)\n",
    "output_0 = Dense(cutoff, activation='softmax')(x)\n",
    "#output_0_reshape = Reshape((cutoff,1), input_shape=(cutoff,))(output_0)\n",
    "\n",
    "#model = Model(inputs=input_0, outputs=output_0_reshape)\n",
    "model = Model(inputs=input_0, outputs=output_0)                              \n",
    "# end of the MODEL\n",
    "\n",
    "sgd = SGD(lr = 0.01, momentum = 0.9, decay = 0, nesterov = False)\n",
    "model.compile(optimizer=sgd, loss='categorical_crossentropy', metrics=['accuracy'])\n",
    "\n",
    "# model.summary()"
   ]
  },
  {
   "cell_type": "code",
   "execution_count": null,
   "metadata": {
    "collapsed": true,
    "scrolled": false
   },
   "outputs": [],
   "source": [
    "model_args = {'model': model, \n",
    "              'generators': [train_gen, val_gen], \n",
    "              'callbacks': [], \n",
    "              'post_train_args': {'user': user, \n",
    "                                  'model': model_name, \n",
    "                                  'result': output_file, \n",
    "                                  'fig_path': fig_path}}\n",
    "\n",
    "trainer = modules.Trainer(**model_args)"
   ]
  },
  {
   "cell_type": "code",
   "execution_count": null,
   "metadata": {
    "collapsed": true
   },
   "outputs": [],
   "source": [
    "import warnings; \n",
    "warnings.simplefilter('ignore')\n",
    "trainer.start(epoch=15)"
   ]
  },
  {
   "cell_type": "raw",
   "metadata": {},
   "source": [
    "# serialize model to JSON\n",
    "model_json = model.to_json()\n",
    "with open(\"./models/metal_predict.json\", \"w\") as json_file:\n",
    "    json_file.write(model_json)\n",
    "# serialize weights to HDF5\n",
    "model.save_weights(\"./models/metal_predict.h5\")\n",
    "print(\"Saved model to disk\")"
   ]
  },
  {
   "cell_type": "code",
   "execution_count": 5,
   "metadata": {
    "ExecuteTime": {
     "end_time": "2018-06-06T18:16:31.463792Z",
     "start_time": "2018-06-06T18:16:30.435648Z"
    }
   },
   "outputs": [
    {
     "name": "stdout",
     "output_type": "stream",
     "text": [
      "Loaded model from disk\n"
     ]
    }
   ],
   "source": [
    "# later...\n",
    "from keras.models import model_from_json\n",
    "# load json and create model\n",
    "json_file = open('./models/metal_predict.json', 'r')\n",
    "loaded_model_json = json_file.read()\n",
    "json_file.close()\n",
    "model = model_from_json(loaded_model_json)\n",
    "# load weights into new model\n",
    "model.load_weights(\"./models/metal_predict.h5\")\n",
    "print(\"Loaded model from disk\")"
   ]
  },
  {
   "cell_type": "code",
   "execution_count": 6,
   "metadata": {
    "ExecuteTime": {
     "end_time": "2018-06-06T18:16:32.593696Z",
     "start_time": "2018-06-06T18:16:32.547981Z"
    },
    "collapsed": true
   },
   "outputs": [],
   "source": [
    "train_args = {'sequences': seqs,\n",
    "              'labels': target,\n",
    "              'translator': vocab_dic_fofe}\n",
    "common_args = {'batch_size': 1,\n",
    "               'input_shape': (800,),\n",
    "               'label_shape': (8, ),\n",
    "               'shuffle': False}\n",
    "train_gen = modules.FOFEGenerator(**train_args, **common_args)"
   ]
  },
  {
   "cell_type": "code",
   "execution_count": 7,
   "metadata": {
    "ExecuteTime": {
     "end_time": "2018-06-06T18:19:20.545256Z",
     "start_time": "2018-06-06T18:16:34.715905Z"
    },
    "collapsed": true
   },
   "outputs": [],
   "source": [
    "metal_predictions = []\n",
    "Y = []\n",
    "# for s in seqs:\n",
    "#     metal_predictions.append(modules.FOFE(s))\n",
    "    \n",
    "\n",
    "for i in range(len(train_gen)):\n",
    "    x,y = train_gen[i]\n",
    "    metal_predictions.append(model.predict(x))\n",
    "    Y.append(y)\n",
    "    "
   ]
  },
  {
   "cell_type": "code",
   "execution_count": 8,
   "metadata": {
    "ExecuteTime": {
     "end_time": "2018-06-06T18:19:40.526583Z",
     "start_time": "2018-06-06T18:19:40.164009Z"
    },
    "collapsed": true
   },
   "outputs": [],
   "source": [
    "inv_label_dict = {v: k for k, v in label_dict.items()}\n",
    "l1 = []\n",
    "l2 = []\n",
    "for i,j in enumerate(Y):\n",
    "    max_i = max(j[0])\n",
    "    x = [a for a, b in enumerate(Y[i][0]) if b == max_i]\n",
    "    l2.append(inv_label_dict[x[0]])\n",
    "    \n",
    "for i,j in enumerate(metal_predictions):\n",
    "    max_i = max(j[0])\n",
    "    x = [a for a, b in enumerate(metal_predictions[i][0]) if b == max_i]\n",
    "    l1.append(inv_label_dict[x[0]])"
   ]
  },
  {
   "cell_type": "code",
   "execution_count": 9,
   "metadata": {
    "ExecuteTime": {
     "end_time": "2018-06-06T18:20:00.386918Z",
     "start_time": "2018-06-06T18:20:00.371046Z"
    }
   },
   "outputs": [
    {
     "name": "stdout",
     "output_type": "stream",
     "text": [
      "0.9160582060576906\n"
     ]
    }
   ],
   "source": [
    "c = 0\n",
    "for i in range(len(l1)):\n",
    "    if l1[i] != l2[i]:\n",
    "        c+=1\n",
    "print ((len(l1)-c) / len(l1))"
   ]
  },
  {
   "cell_type": "code",
   "execution_count": 10,
   "metadata": {
    "ExecuteTime": {
     "end_time": "2018-06-06T18:20:20.009172Z",
     "start_time": "2018-06-06T18:20:20.003220Z"
    },
    "collapsed": true
   },
   "outputs": [],
   "source": [
    "df['metalPrediction'] = np.array(l1, dtype='O')"
   ]
  },
  {
   "cell_type": "code",
   "execution_count": null,
   "metadata": {
    "collapsed": true
   },
   "outputs": [],
   "source": [
    "df"
   ]
  },
  {
   "cell_type": "code",
   "execution_count": 11,
   "metadata": {
    "ExecuteTime": {
     "end_time": "2018-06-06T18:20:39.833534Z",
     "start_time": "2018-06-06T18:20:39.634909Z"
    },
    "collapsed": true
   },
   "outputs": [],
   "source": [
    "df.to_parquet('Metal_all_20180601_predicted.parquet')"
   ]
  },
  {
   "cell_type": "code",
   "execution_count": null,
   "metadata": {
    "collapsed": true
   },
   "outputs": [],
   "source": [
    "df2 = pd.read_csv('Metal_all_20180601_predicted.csv', sep='\\t')"
   ]
  },
  {
   "cell_type": "code",
   "execution_count": null,
   "metadata": {
    "collapsed": true
   },
   "outputs": [],
   "source": [
    "df2"
   ]
  },
  {
   "cell_type": "code",
   "execution_count": null,
   "metadata": {
    "collapsed": true
   },
   "outputs": [],
   "source": [
    "print (l1[:10])"
   ]
  },
  {
   "cell_type": "code",
   "execution_count": null,
   "metadata": {
    "collapsed": true
   },
   "outputs": [],
   "source": [
    "print (l2[:10])"
   ]
  },
  {
   "cell_type": "code",
   "execution_count": null,
   "metadata": {
    "collapsed": true
   },
   "outputs": [],
   "source": [
    "# Remove seqs containing 'U' and 'X'\n",
    "\n",
    "duplicate_dict = {}\n",
    "rows_to_delete = []\n",
    "for i in range(seqs.shape[0]):\n",
    "    if 'X' in seqs[i] \\\n",
    "    or 'U' in seqs[i] \\\n",
    "    or '3CO' in target[i]\\\n",
    "    or '3NI' in target[i] \\\n",
    "    or 'FE2'in target[i] \\\n",
    "    or 'CU1'in target[i]\\\n",
    "    or 'MN3' in target[i] \\\n",
    "    or np.isnan(cluster_numbers[i]):\n",
    "        rows_to_delete.append(i)\n",
    "        print (i, end=',')\n",
    "    elif seqs[i] not in duplicate_dict.keys():\n",
    "        duplicate_dict[seqs[i]] = target[i]\n",
    "    else:\n",
    "        if target[i] != duplicate_dict[seqs[i]]:\n",
    "            rows_to_delete.append(i)\n",
    "            print (i, end=',')\n",
    "    \n",
    "# df = df.drop(df.index[rows_to_delete])\n",
    "# df.to_parquet('Metal_all_20180601.parquet')\n",
    "seqs = np.delete(seqs, rows_to_delete, 0)\n",
    "target = np.delete(target, rows_to_delete)\n",
    "cluster_numbers = np.delete(cluster_numbers, rows_to_delete)"
   ]
  }
 ],
 "metadata": {
  "kernelspec": {
   "display_name": "Python 3",
   "language": "python",
   "name": "python3"
  },
  "language_info": {
   "codemirror_mode": {
    "name": "ipython",
    "version": 3
   },
   "file_extension": ".py",
   "mimetype": "text/x-python",
   "name": "python",
   "nbconvert_exporter": "python",
   "pygments_lexer": "ipython3",
   "version": "3.6.4"
  },
  "varInspector": {
   "cols": {
    "lenName": 16,
    "lenType": 16,
    "lenVar": 40
   },
   "kernels_config": {
    "python": {
     "delete_cmd_postfix": "",
     "delete_cmd_prefix": "del ",
     "library": "var_list.py",
     "varRefreshCmd": "print(var_dic_list())"
    },
    "r": {
     "delete_cmd_postfix": ") ",
     "delete_cmd_prefix": "rm(",
     "library": "var_list.r",
     "varRefreshCmd": "cat(var_dic_list()) "
    }
   },
   "types_to_exclude": [
    "module",
    "function",
    "builtin_function_or_method",
    "instance",
    "_Feature"
   ],
   "window_display": false
  }
 },
 "nbformat": 4,
 "nbformat_minor": 2
}
