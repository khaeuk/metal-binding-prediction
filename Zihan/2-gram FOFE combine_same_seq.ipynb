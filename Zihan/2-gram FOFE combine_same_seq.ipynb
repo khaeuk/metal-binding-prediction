{
 "cells": [
  {
   "cell_type": "markdown",
   "metadata": {
    "collapsed": true,
    "slideshow": {
     "slide_type": "slide"
    }
   },
   "source": [
    "# Read Data"
   ]
  },
  {
   "cell_type": "code",
   "execution_count": 1,
   "metadata": {
    "collapsed": true
   },
   "outputs": [],
   "source": [
    "import os\n",
    "os.environ[\"THEANO_FLAGS\"] = \"mode=FAST_RUN,device=gpu,floatX=float32\"\n",
    "\n",
    "import pandas as pd\n",
    "\n",
    "dataset = pd.read_parquet('Metal_all_20180116.snappy.parquet', engine='pyarrow')\n",
    "\n",
    "# credit: https://github.com/zygmuntz/classifying-text\n",
    "# FOFE package for encoding protein sequences with variable lengths into fixed length\n",
    "\n",
    "from fofePackage.fofe.fofe import FofeVectorizer\n",
    "from sklearn.feature_extraction.text import CountVectorizer \n",
    "import numpy as np"
   ]
  },
  {
   "cell_type": "markdown",
   "metadata": {},
   "source": [
    "# Pre-process Data\n",
    "### 1. Eliminate X and U\n",
    "### 2. Apply a cut-off to the dataset"
   ]
  },
  {
   "cell_type": "code",
   "execution_count": 2,
   "metadata": {},
   "outputs": [
    {
     "name": "stdout",
     "output_type": "stream",
     "text": [
      "size of sequence set before eliminating X and U: 23277\n",
      "size of sequence set after eliminating X and U: 23233\n",
      "std: 200.986 mean: 306.67\n",
      "size of sequence set before cutoff: 23233\n",
      "size of sequence set after cutoff: 22207\n",
      "maxLength after cutoff is: 707\n"
     ]
    }
   ],
   "source": [
    "proteinSet = dataset.as_matrix(columns=None)\n",
    "\n",
    "# sequence set\n",
    "sequenceSet = proteinSet[:,[4]]\n",
    "\n",
    "# fingerprint set\n",
    "fingerPrintSet = proteinSet[:,[2]]\n",
    "\n",
    "# helper methods for extracting sequence set and fingerprint set for a specific ligandID\n",
    "# return: 1: fingerPrintSet for a ligandID; 2: sequenceSet for a ligandID\n",
    "\n",
    "def extractOneLigandID(id):\n",
    "    extractedSet = proteinSet[proteinSet[:,1]==id]\n",
    "    return extractedSet[:,[2]].tolist(), extractedSet[:,[4]].tolist()\n",
    "\n",
    "fpLs_zn, seqLs_zn = extractOneLigandID(\"ZN\")\n",
    "\n",
    "# sequence list where each sequence is a list of symbols\n",
    "\n",
    "seq_ls = []\n",
    "\n",
    "for i in seqLs_zn:\n",
    "    sb_ls = []\n",
    "    for j in i[0]:\n",
    "        sb_ls.append(j)\n",
    "    seq_ls.append(sb_ls)\n",
    "    \n",
    "# eliminate X and U\n",
    "\n",
    "def eliXAndU(sqls, fpls):\n",
    "    print(\"size of sequence set before eliminating X and U: \"+str(len(sqls)))\n",
    "    sq_out = []\n",
    "    fp_out = []\n",
    "    for i in range(len(sqls)):\n",
    "        invalidSeq = False\n",
    "        for j in sqls[i]:\n",
    "            if j =='X' or j == 'U':\n",
    "                invalidSeq = True\n",
    "                break\n",
    "        if invalidSeq == False:\n",
    "            sq_out.append(sqls[i])\n",
    "            fp_out.append(fpls[i])\n",
    "            \n",
    "    print(\"size of sequence set after eliminating X and U: \"+str(len(sq_out)))\n",
    "    return sq_out, fp_out    \n",
    "\n",
    "seq_ls_eli, fp_ls_eli = eliXAndU(seq_ls, fpLs_zn)\n",
    "#seq_ls_eli, fp_ls_eli = seq_ls, fpLs_zn\n",
    "\n",
    "# make a list that stores all lengths for all sequence to make a cut-off\n",
    "\n",
    "length_ls = []\n",
    "\n",
    "for i in seq_ls_eli:\n",
    "    curLen = 0\n",
    "    for j in i:\n",
    "        curLen +=1\n",
    "    \n",
    "    length_ls.append(curLen)\n",
    "    \n",
    "# helper function to get a sub list of current sequence list and foot print list\n",
    "\n",
    "def getSubList(sqls, fpls, cutoff):\n",
    "    sq_out = []\n",
    "    fp_out = []\n",
    "    for i in range(len(sqls)):\n",
    "        if len(sqls[i]) <= cutoff:\n",
    "            sq_out.append(sqls[i])\n",
    "            fp_out.append(fpls[i])\n",
    "    \n",
    "    return sq_out, fp_out\n",
    "\n",
    "\n",
    "# sort length list to do a cut-off\n",
    "length_ls.sort()\n",
    "length_ls = np.array(length_ls)\n",
    "\n",
    "stdLength = np.std(length_ls, dtype=np.float32)\n",
    "meanLength = np.mean(length_ls, dtype=np.float32)\n",
    "\n",
    "print(\"std: \"+str(stdLength)+\" mean: \"+str(meanLength))\n",
    "\n",
    "\n",
    "# do cut-off\n",
    "seq_ls_cut, fp_ls_cut = getSubList(seq_ls_eli, fp_ls_eli, meanLength+2*stdLength)\n",
    "\n",
    "\n",
    "\n",
    "# don't do cut-off\n",
    "# seq_ls_cut = seq_ls\n",
    "# fp_ls_cut = fpLs_zn\n",
    "\n",
    "print(\"size of sequence set before cutoff: \"+str(len(seq_ls_eli)))\n",
    "print(\"size of sequence set after cutoff: \"+str(len(seq_ls_cut)))\n",
    "\n",
    "# find the max length of sequences after cut off\n",
    "maxLength = 0\n",
    "\n",
    "for i in seq_ls_cut:\n",
    "    curLen = 0\n",
    "    for j in i:\n",
    "        curLen +=1\n",
    "    \n",
    "    if curLen>maxLength:\n",
    "        maxLength = curLen\n",
    "print(\"maxLength after cutoff is: \" + str(maxLength))\n",
    "\n"
   ]
  },
  {
   "cell_type": "code",
   "execution_count": 3,
   "metadata": {},
   "outputs": [
    {
     "name": "stdout",
     "output_type": "stream",
     "text": [
      "C and H takes: 0.3700922303760601\n",
      "C and H in zinc binding sequences takes: 0.8088663790408304\n"
     ]
    }
   ],
   "source": [
    "# C & H take 37% in all sequences and 81% in sequences with zinc binding\n",
    "C_H_count = 0\n",
    "total_binding_sites = 0\n",
    "\n",
    "for i in range(len(sequenceSet)):\n",
    "    for j in fingerPrintSet[i][0]:\n",
    "        if sequenceSet[i][0][j]== \"C\" or sequenceSet[i][0][j] == \"H\":\n",
    "            C_H_count+=1\n",
    "        total_binding_sites+=1\n",
    "\n",
    "print(\"C and H takes: \"+str(C_H_count/total_binding_sites))\n",
    "        \n",
    "\n",
    "C_H_count_zn = 0\n",
    "total_binding_sites_zn = 0\n",
    "\n",
    "for i in range(len(seq_ls_cut)):\n",
    "    for j in fp_ls_cut[i][0]:\n",
    "        if seq_ls_cut[i][j] == \"C\" or seq_ls_cut[i][j] == \"H\":\n",
    "            C_H_count_zn+=1\n",
    "        total_binding_sites_zn+=1\n",
    "\n",
    "print(\"C and H in zinc binding sequences takes: \"+str(C_H_count_zn/total_binding_sites_zn))"
   ]
  },
  {
   "cell_type": "code",
   "execution_count": 4,
   "metadata": {
    "collapsed": true
   },
   "outputs": [],
   "source": [
    "full_seq_ls = []\n",
    "\n",
    "for i in seq_ls_cut:\n",
    "    full_seq_ls.append(\"\".join(i))"
   ]
  },
  {
   "cell_type": "markdown",
   "metadata": {},
   "source": [
    "# Prepare parameters for FOFE encoding"
   ]
  },
  {
   "cell_type": "code",
   "execution_count": 5,
   "metadata": {
    "collapsed": true
   },
   "outputs": [],
   "source": [
    "# pre-process seq_ls_cut to make it a 2-gram dataset: ABC -> AB, BC\n",
    "two_gram_ls = []\n",
    "\n",
    "for i in seq_ls_cut:\n",
    "    cur_two_gram = []\n",
    "    for j in range(len(i)-1):\n",
    "        cur_two_gram.append(i[j]+i[j+1])\n",
    "    two_gram_ls.append(cur_two_gram)\n",
    "\n",
    "seq_ls_cut = two_gram_ls"
   ]
  },
  {
   "cell_type": "code",
   "execution_count": 6,
   "metadata": {
    "collapsed": true
   },
   "outputs": [],
   "source": [
    "# a dict to find out what 2-gram types the sequences have\n",
    "# Ignore X and U symbols\n",
    "symbolDict = {}\n",
    "for i in seq_ls_cut:\n",
    "    for j in i:\n",
    "            symbolDict[j] = 1\n",
    "\n",
    "# vocabulary: a dictionary mapping symbols (amino acid) to indices\n",
    "\n",
    "# raw_doc: list of all symbols\n",
    "raw_doc = []\n",
    "\n",
    "for key, _ in symbolDict.items():\n",
    "    raw_doc.append(key)\n",
    "\n",
    "    \n",
    "# # # Marker B\n",
    "# raw_doc.append('B')\n",
    "    \n",
    "# create the vocabulary dictionary\n",
    "vocab_dict = {}\n",
    "count = 0\n",
    "for sb in raw_doc:\n",
    "    vocab_dict[sb] = count\n",
    "    count +=1"
   ]
  },
  {
   "cell_type": "code",
   "execution_count": 7,
   "metadata": {
    "collapsed": true
   },
   "outputs": [],
   "source": [
    "# # insert marker symbol \"B\" to the beginning of all sequences\n",
    "\n",
    "# for i in range(len(seq_ls_cut)):\n",
    "#     seq_ls_cut[i] = ['B']+seq_ls_cut[i]\n",
    "    \n",
    "# # increase all finger print data by 1\n",
    "\n",
    "# fp_ls_inc_by_1 = []\n",
    "\n",
    "# for i in range(len(fp_ls_cut)):\n",
    "#     cur_fp_ls = np.array([])\n",
    "#     for j in range(len(fp_ls_cut[i][0])):\n",
    "#         cur_fp_ls = np.append(cur_fp_ls, np.array([fp_ls_cut[i][0][j]+1])).astype(int)\n",
    "#     fp_ls_inc_by_1.append([cur_fp_ls])\n",
    "\n",
    "# fp_ls_cut = fp_ls_inc_by_1"
   ]
  },
  {
   "cell_type": "code",
   "execution_count": 8,
   "metadata": {},
   "outputs": [
    {
     "name": "stderr",
     "output_type": "stream",
     "text": [
      "Using TensorFlow backend.\n"
     ]
    }
   ],
   "source": [
    "# BUILD of a simple CNN architecture\n",
    "import tensorflow as tf\n",
    "import time\n",
    "import matplotlib.pyplot as plt\n",
    "% matplotlib inline\n",
    "np.random.seed(2017) \n",
    "from keras.models import Sequential, Model\n",
    "from keras.layers.convolutional import Convolution2D, MaxPooling2D, Convolution1D, MaxPooling1D, AveragePooling2D\n",
    "from keras.layers import Activation, Flatten, Dense, Dropout, Reshape, Embedding, Input\n",
    "from keras.layers.normalization import BatchNormalization\n",
    "from keras.utils import np_utils\n",
    "from keras.optimizers import SGD\n",
    "import numpy as np\n",
    "import keras"
   ]
  },
  {
   "cell_type": "code",
   "execution_count": 9,
   "metadata": {
    "collapsed": true
   },
   "outputs": [],
   "source": [
    "# helper function to find the ranking of finger print points in prediction\n",
    "def getF1(sequence_index, label_set, pred, factor):\n",
    "    \n",
    "    prob_mean = np.mean(pred[sequence_index])\n",
    "    prob_std = np.std(pred[sequence_index])\n",
    "    \n",
    "    prob_th = prob_mean+factor*prob_std\n",
    "    \n",
    "    cur_fp_ls = label_set[sequence_index][0]\n",
    "    truePositive = 0\n",
    "    falseNegative = 0\n",
    "    for i in range(len(cur_fp_ls)):\n",
    "        cur_index = cur_fp_ls[i]\n",
    "        if pred[sequence_index][cur_index] >= prob_th:\n",
    "            truePositive += 1\n",
    "        else:\n",
    "            falseNegative += 1\n",
    "    \n",
    "    Positive = 0\n",
    "    Negative = 0\n",
    "    for i in range(len(pred[sequence_index])):\n",
    "        if pred[sequence_index][i] >= prob_th:\n",
    "            Positive += 1\n",
    "        else:\n",
    "            Negative += 1\n",
    "                \n",
    "    return truePositive, falseNegative, Positive, Negative"
   ]
  },
  {
   "cell_type": "code",
   "execution_count": 10,
   "metadata": {
    "collapsed": true
   },
   "outputs": [],
   "source": [
    "def getF1_new(sequence_index, label_set, pred, factor):\n",
    "    \n",
    "    prob_mean = np.mean(pred[sequence_index])\n",
    "    prob_std = np.std(pred[sequence_index]) \n",
    "    prob_th = prob_mean+factor*prob_std\n",
    "    cur_fp_ls = label_set[sequence_index]\n",
    "    truePositive = 0\n",
    "    falseNegative = 0\n",
    "    falsePositive = 0\n",
    "    for i in range(len(cur_fp_ls)):\n",
    "        if(cur_fp_ls[i] == 1):\n",
    "            if pred[sequence_index][i] >= prob_th:\n",
    "                truePositive += 1\n",
    "            else:\n",
    "                falseNegative += 1\n",
    "        else:\n",
    "            if pred[sequence_index][i] >= prob_th and cur_fp_ls[i] == 0:\n",
    "                falsePositive += 1\n",
    "    \n",
    "    Positive = 0\n",
    "    Negative = 0\n",
    "    for i in range(len(pred[sequence_index])):\n",
    "        if pred[sequence_index][i] >= prob_th:\n",
    "            Positive += 1\n",
    "        else:\n",
    "            Negative += 1\n",
    "            \n",
    "    return truePositive, falseNegative, Positive, Negative"
   ]
  },
  {
   "cell_type": "code",
   "execution_count": 11,
   "metadata": {
    "collapsed": true
   },
   "outputs": [],
   "source": [
    "# helper function to find the ranking of finger print points in prediction\n",
    "def getRanking(sequence_index, label_set, pred):\n",
    "    # build a list of tuples based on the prediction list\n",
    "    tuple_ls = []\n",
    "    for i in range(len(pred[sequence_index])):\n",
    "        tuple_ls.append((i, pred[sequence_index][i]))\n",
    "    \n",
    "    tuple_ls = sorted(tuple_ls, key=lambda x: x[1], reverse=True)\n",
    "    \n",
    "    output_ls = []\n",
    "    cur_fp_ls = label_set[sequence_index][0]\n",
    "    \n",
    "    #print(cur_fp_ls)\n",
    "    for i in range(len(cur_fp_ls)):\n",
    "        \n",
    "        cur_index = cur_fp_ls[i]\n",
    "        for j in range(len(tuple_ls)):\n",
    "            if tuple_ls[j][0]==cur_index:\n",
    "                output_ls.append(j+1)\n",
    "                #print(\"Ranking for site \"+str(cur_index)+\" is: \"+str(j+1))\n",
    "                \n",
    "    return output_ls"
   ]
  },
  {
   "cell_type": "code",
   "execution_count": 12,
   "metadata": {
    "collapsed": true
   },
   "outputs": [],
   "source": [
    "# For hybrid model only\n",
    "def random_sample_n_times(X, Y, size):\n",
    "    X1 = X\n",
    "    n = X1.shape[0]\n",
    "    _X1, _Y = [], []\n",
    "    for i in range(size):\n",
    "        r = np.random.randint(n)\n",
    "        _X1.append(X1[r].tolist())\n",
    "        _Y.append(Y[r].tolist())\n",
    "        \n",
    "    _X = np.asarray(_X1)\n",
    "    _Y = np.asarray(_Y)\n",
    "    \n",
    "    return _X, _Y"
   ]
  },
  {
   "cell_type": "code",
   "execution_count": 13,
   "metadata": {
    "collapsed": true
   },
   "outputs": [],
   "source": [
    "from keras.callbacks import Callback\n",
    "from sklearn.metrics import roc_auc_score, confusion_matrix, f1_score, precision_score, recall_score\n",
    "import matplotlib.pyplot as plt\n",
    "\n",
    "class custom_callback(Callback):\n",
    "    def __init__(self,training_data,validation_data, sample_size):\n",
    "        self.sample_size = sample_size\n",
    "\n",
    "        self.x = training_data[0]\n",
    "        self.y = training_data[1]\n",
    "        self.x_val = validation_data[0]\n",
    "        self.y_val = validation_data[1]\n",
    "        \n",
    "        self.roc_scores = []\n",
    "        self.f1_scores = []\n",
    "        self.precision_scores = []\n",
    "        self.recall_scores = []\n",
    "        \n",
    "\n",
    "    def on_train_begin(self, logs={}):\n",
    "        self.roc_scores = []\n",
    "        self.f1_scores = []\n",
    "        self.precision_scores = []\n",
    "        self.recall_scores = []\n",
    "        return\n",
    "    \n",
    "    def on_epoch_end(self, epoch, logs={}):\n",
    "        x, y = random_sample_n_times(self.x, self.y, self.sample_size)\n",
    "        x_val, y_val = random_sample_n_times(self.x_val, self.y_val, self.sample_size)\n",
    "\n",
    "        y_pred = self.model.predict(x)\n",
    "        y_pred_val = self.model.predict(x_val)\n",
    "    \n",
    "        tp_sum = 0\n",
    "        fn_sum = 0\n",
    "        p_sum = 0\n",
    "        n_sum = 0\n",
    "        \n",
    "        # calculate f1 score in the batch from validation set\n",
    "        for i in range(self.sample_size):\n",
    "            tp,fn,p,n = getF1_new(i, y_val, y_pred_val,4)\n",
    "            tp_sum = tp_sum + tp\n",
    "            fn_sum = fn_sum + fn\n",
    "            p_sum = p_sum + p\n",
    "            n_sum = n_sum + n\n",
    "\n",
    "        precision = tp_sum/p_sum\n",
    "        recall = tp_sum/(tp_sum+fn_sum) \n",
    "        f1 = 2*precision*recall/(precision+recall)\n",
    "\n",
    "        self.f1_scores.append((len(self.f1_scores),f1))\n",
    "        \n",
    "        return\n",
    "        \n",
    "        \n"
   ]
  },
  {
   "cell_type": "code",
   "execution_count": 20,
   "metadata": {
    "collapsed": true
   },
   "outputs": [],
   "source": [
    "# look at all sequences and create key value pair for duplicate sequences and respective fp\n",
    "seq_dict = {}\n",
    "\n",
    "for i in range(len(seqLs_zn)):\n",
    "    if seqLs_zn[i][0] in seq_dict:\n",
    "        for j in range(fpLs_zn[i][0].size):\n",
    "            seq_dict[seqLs_zn[i][0]][fpLs_zn[i][0][j]] = 1\n",
    "    else:\n",
    "        seq_dict[seqLs_zn[i][0]] = {}\n",
    "        for j in range(fpLs_zn[i][0].size):\n",
    "            seq_dict[seqLs_zn[i][0]][fpLs_zn[i][0][j]] = 1\n",
    "\n"
   ]
  },
  {
   "cell_type": "code",
   "execution_count": 31,
   "metadata": {},
   "outputs": [
    {
     "data": {
      "text/plain": [
       "{188: 1, 190: 1, 234: 1, 240: 1, 276: 1, 306: 1, 308: 1}"
      ]
     },
     "execution_count": 31,
     "metadata": {},
     "output_type": "execute_result"
    }
   ],
   "source": [
    "seq_dict[full_seq_ls[int(len(full_seq_ls)*3/4)]]"
   ]
  },
  {
   "cell_type": "code",
   "execution_count": 34,
   "metadata": {
    "collapsed": true
   },
   "outputs": [],
   "source": [
    "def buildFeatureAndTrain(alpha,factor):\n",
    "\n",
    "    print(\"alpha = \"+str(alpha))\n",
    "    #alpha = 1 - 1e-3\n",
    "    #alpha = 0.4\n",
    "\n",
    "    fofe = FofeVectorizer(alpha)\n",
    "\n",
    "    # naive transform: slow and memory hungry, but is readable\n",
    "    features = fofe.naive_transform(seq_ls_cut, vocab_dict)\n",
    "    labels = fp_ls_cut[:]\n",
    "\n",
    "    # get reverse of sequences\n",
    "    seq_ls_cut_rev = []\n",
    "    for i in seq_ls_cut:\n",
    "        seq_ls_cut_rev.append(list(reversed(i)))\n",
    "    features_rev = fofe.naive_transform(seq_ls_cut_rev, vocab_dict)\n",
    "\n",
    "    # normalize feature matrix by subtracting each value by mean/std\n",
    "    for i in range(len(features)):\n",
    "        tmp_ls = np.array(features[i])\n",
    "        tmp_std = np.std(tmp_ls, dtype=np.float32)\n",
    "        tmp_mean = np.mean(tmp_ls, dtype=np.float32)\n",
    "        for j in range(len(tmp_ls)):\n",
    "            features[i][j]=tmp_ls[j]-tmp_mean/tmp_std\n",
    "\n",
    "    # normalize feature matrix by subtracting each value by mean/std\n",
    "    for i in range(len(features_rev)):\n",
    "        tmp_ls = np.array(features_rev[i])\n",
    "        tmp_std = np.std(tmp_ls, dtype=np.float32)\n",
    "        tmp_mean = np.mean(tmp_ls, dtype=np.float32)\n",
    "        for j in range(len(tmp_ls)):\n",
    "            features_rev[i][j]=tmp_ls[j]-tmp_mean/tmp_std\n",
    "\n",
    "    # Combine features and features_rev\n",
    "    features_new = []\n",
    "    for i in range(len(features)):\n",
    "        features_new.append(np.concatenate((features[i],features_rev[i])))\n",
    "\n",
    "    features = features_new\n",
    "    #print(features_new[0])\n",
    "\n",
    "\n",
    "    train_features = features[:int(len(features)*3/4)]\n",
    "    train_labels = labels[:int(len(labels)*3/4)]\n",
    "    \n",
    "    vali_features = features[int(len(features)*3/4):int(len(features)*7/8)]\n",
    "    vali_labels = labels[int(len(labels)*3/4):int(len(labels)*7/8)]\n",
    "\n",
    "    test_features = features[int(len(features)*7/8):]\n",
    "    test_labels = labels[int(len(labels)*7/8):]\n",
    "\n",
    "    train_seq_ls_cut = seq_ls_cut[:int(len(seq_ls_cut)*3/4)]\n",
    "    vali_seq_ls_cut = seq_ls_cut[int(len(seq_ls_cut)*3/4):int(len(seq_ls_cut)*7/8)]\n",
    "    test_seq_ls_cut = seq_ls_cut[int(len(seq_ls_cut)*7/8):]\n",
    "\n",
    "    train_fp_ls_cut = fp_ls_cut[:int(len(fp_ls_cut)*3/4)]\n",
    "    vali_fp_ls_cut = fp_ls_cut[int(len(fp_ls_cut)*3/4):int(len(fp_ls_cut)*7/8)]\n",
    "    test_fp_ls_cut = fp_ls_cut[int(len(fp_ls_cut)*7/8):] \n",
    "    \n",
    "    train_full_seq_ls = full_seq_ls[:int(len(full_seq_ls)*3/4)]\n",
    "    vali_full_seq_ls = full_seq_ls[int(len(full_seq_ls)*3/4):int(len(full_seq_ls)*7/8)]\n",
    "    test_full_seq_ls = full_seq_ls[int(len(full_seq_ls)*7/8):]\n",
    "\n",
    "    train_features = np.array(train_features)\n",
    "    vali_features = np.array(vali_features)\n",
    "    test_features = np.array(test_features)\n",
    "    \n",
    "    # get test_labels and vali_labels combined for duplicate sequences\n",
    "    for i in range(len(vali_seq_ls_cut)):\n",
    "        for cur_fp in seq_dict[vali_full_seq_ls[i]]:\n",
    "            if cur_fp not in vali_labels[i][0]:\n",
    "                vali_labels[i][0] = np.append(vali_labels[i][0], [cur_fp]) \n",
    "        \n",
    "        \n",
    "    for i in range(len(test_seq_ls_cut)):\n",
    "        for cur_fp in seq_dict[test_full_seq_ls[i]]:\n",
    "            if cur_fp not in test_labels[i][0]:\n",
    "                test_labels[i][0] = np.append(test_labels[i][0], [cur_fp])       \n",
    "\n",
    "    #prep of labels\n",
    "    #create zero matrix of all zeros with maxLength columns\n",
    "    train_l = np.zeros((len(train_labels),maxLength))\n",
    "    vali_l = np.zeros((len(vali_labels),maxLength))\n",
    "    test_l = np.zeros((len(test_labels),maxLength))\n",
    "\n",
    "    for i in range(len(train_labels)):\n",
    "        for j in train_labels[i][0]:\n",
    "            train_l[i][j] = 1\n",
    "\n",
    "    for i in range(len(vali_labels)):\n",
    "        for j in vali_labels[i][0]:\n",
    "            vali_l[i][j] = 1\n",
    "            \n",
    "    for i in range(len(test_labels)):\n",
    "        for j in test_labels[i][0]:\n",
    "            test_l[i][j] = 1    \n",
    "            \n",
    "    print(vali_l[0])\n",
    "            \n",
    "\n",
    "    train_l = np.array(train_l)\n",
    "    vali_l = np.array(vali_l)\n",
    "    test_l = np.array(test_l)\n",
    "    \n",
    "    #The MODEL\n",
    "    #3 parallel conv2d layers\n",
    "    \n",
    "    fofe_input = Input(shape=(800,), dtype='float32', name='fofe_input')\n",
    "    fofe_input_reshape = Reshape((1,800,1), input_shape=(800,))(fofe_input)\n",
    "    conv2d_3 = Convolution2D(3, 1, 6, border_mode='same')(fofe_input_reshape)\n",
    "    conv2d_5 = Convolution2D(5, 1, 4, border_mode='same')(fofe_input_reshape)\n",
    "    conv2d_7 = Convolution2D(7, 1, 2, border_mode='same')(fofe_input_reshape)\n",
    "    \n",
    "    x = keras.layers.concatenate([conv2d_3,conv2d_5,conv2d_7])\n",
    "    x = Activation('relu')(x)\n",
    "    x = Flatten()(x)\n",
    "    x = Dense(maxLength, activation='relu')(x)\n",
    "    fofe_output = Dense(maxLength, activation='softmax')(x)\n",
    "    \n",
    "    model = Model(inputs=fofe_input, outputs=fofe_output)\n",
    "    \n",
    "    # end of the MODEL\n",
    "\n",
    "    sgd = SGD(lr = 0.1, momentum = 0.9, decay = 0, nesterov = False)\n",
    "    model.compile(optimizer=sgd, loss='categorical_crossentropy', metrics=['accuracy'])\n",
    "    \n",
    "    # callbacks loss history\n",
    "\n",
    "    cb = custom_callback((train_features,train_l), (vali_features, vali_l), 128)\n",
    "    start = time.time()\n",
    "    \n",
    "    model.fit(train_features, train_l, batch_size=128,epochs=20, validation_data=(vali_features, vali_l),\n",
    "              verbose=1,callbacks=[cb])\n",
    "\n",
    "    end = time.time()\n",
    "\n",
    "    print(\"Model took %0.2f seconds to train\"%(end - start))\n",
    "    \n",
    "    print(cb.f1_scores)\n",
    "    \n",
    "    fig1 = plt.figure()\n",
    "    ax1 = fig1.add_subplot(111)\n",
    "    #ax1.scatter(rank_x,rank_y,s=4)\n",
    "    ax1.scatter(*zip(*cb.f1_scores))\n",
    "    #ax1.plot(cb.f1_scores)\n",
    "    ax1.set_ylabel('f1')\n",
    "    ax1.set_xlabel('epoch')\n",
    "    \n",
    "    prediction = model.predict(test_features)\n",
    "    \n",
    "    rank_x = []\n",
    "    rank_y = []\n",
    "\n",
    "    hit = 0\n",
    "    total = 0\n",
    "    \n",
    "    tp_sum = 0\n",
    "    fn_sum = 0\n",
    "    p_sum = 0\n",
    "    n_sum = 0\n",
    "    \n",
    "    for i in range(len(test_labels)):\n",
    "        tp,fn,p,n = getF1(i, test_labels, prediction,factor)\n",
    "        tp_sum = tp_sum + tp\n",
    "        fn_sum = fn_sum + fn\n",
    "        p_sum = p_sum + p\n",
    "        n_sum = n_sum + n\n",
    "\n",
    "    \n",
    "    precision = tp_sum/p_sum\n",
    "    recall = tp_sum/(tp_sum+fn_sum) \n",
    "    f1 = 2*precision*recall/(precision+recall)\n",
    "    print(\"precision = \"+str(precision))\n",
    "    print(\"recall = \"+str(recall))\n",
    "    print(\"f1 = \"+str(f1))\n",
    "    return f1\n",
    "        "
   ]
  },
  {
   "cell_type": "code",
   "execution_count": 39,
   "metadata": {
    "scrolled": false
   },
   "outputs": [
    {
     "name": "stdout",
     "output_type": "stream",
     "text": [
      "alpha = 0.95\n",
      "[ 0.  0.  0.  0.  0.  0.  0.  0.  0.  0.  0.  0.  0.  0.  0.  0.  0.  0.\n",
      "  0.  0.  0.  0.  0.  0.  0.  0.  0.  0.  0.  0.  0.  0.  0.  0.  0.  0.\n",
      "  0.  0.  0.  0.  0.  0.  0.  0.  0.  0.  0.  0.  0.  0.  0.  0.  0.  0.\n",
      "  0.  0.  0.  0.  0.  0.  0.  0.  0.  0.  0.  0.  0.  0.  0.  0.  0.  0.\n",
      "  0.  0.  0.  0.  0.  0.  0.  0.  0.  0.  0.  0.  0.  0.  0.  0.  0.  0.\n",
      "  0.  0.  0.  0.  0.  0.  0.  0.  0.  0.  0.  0.  0.  0.  0.  0.  0.  0.\n",
      "  0.  0.  0.  0.  0.  0.  0.  0.  0.  0.  0.  0.  0.  0.  0.  0.  0.  0.\n",
      "  0.  0.  0.  0.  0.  0.  0.  0.  0.  0.  0.  0.  0.  0.  0.  0.  0.  0.\n",
      "  0.  0.  0.  0.  0.  0.  0.  0.  0.  0.  0.  0.  0.  0.  0.  0.  0.  0.\n",
      "  0.  0.  0.  0.  0.  0.  0.  0.  0.  0.  0.  0.  0.  0.  0.  0.  0.  0.\n",
      "  0.  0.  0.  0.  0.  0.  0.  0.  1.  0.  1.  0.  0.  0.  0.  0.  0.  0.\n",
      "  0.  0.  0.  0.  0.  0.  0.  0.  0.  0.  0.  0.  0.  0.  0.  0.  0.  0.\n",
      "  0.  0.  0.  0.  0.  0.  0.  0.  0.  0.  0.  0.  0.  0.  0.  0.  0.  0.\n",
      "  1.  0.  0.  0.  0.  0.  1.  0.  0.  0.  0.  0.  0.  0.  0.  0.  0.  0.\n",
      "  0.  0.  0.  0.  0.  0.  0.  0.  0.  0.  0.  0.  0.  0.  0.  0.  0.  0.\n",
      "  0.  0.  0.  0.  0.  0.  1.  0.  0.  0.  0.  0.  0.  0.  0.  0.  0.  0.\n",
      "  0.  0.  0.  0.  0.  0.  0.  0.  0.  0.  0.  0.  0.  0.  0.  0.  0.  0.\n",
      "  1.  0.  1.  0.  0.  0.  0.  0.  0.  0.  0.  0.  0.  0.  0.  0.  0.  0.\n",
      "  0.  0.  0.  0.  0.  0.  0.  0.  0.  0.  0.  0.  0.  0.  0.  0.  0.  0.\n",
      "  0.  0.  0.  0.  0.  0.  0.  0.  0.  0.  0.  0.  0.  0.  0.  0.  0.  0.\n",
      "  0.  0.  0.  0.  0.  0.  0.  0.  0.  0.  0.  0.  0.  0.  0.  0.  0.  0.\n",
      "  0.  0.  0.  0.  0.  0.  0.  0.  0.  0.  0.  0.  0.  0.  0.  0.  0.  0.\n",
      "  0.  0.  0.  0.  0.  0.  0.  0.  0.  0.  0.  0.  0.  0.  0.  0.  0.  0.\n",
      "  0.  0.  0.  0.  0.  0.  0.  0.  0.  0.  0.  0.  0.  0.  0.  0.  0.  0.\n",
      "  0.  0.  0.  0.  0.  0.  0.  0.  0.  0.  0.  0.  0.  0.  0.  0.  0.  0.\n",
      "  0.  0.  0.  0.  0.  0.  0.  0.  0.  0.  0.  0.  0.  0.  0.  0.  0.  0.\n",
      "  0.  0.  0.  0.  0.  0.  0.  0.  0.  0.  0.  0.  0.  0.  0.  0.  0.  0.\n",
      "  0.  0.  0.  0.  0.  0.  0.  0.  0.  0.  0.  0.  0.  0.  0.  0.  0.  0.\n",
      "  0.  0.  0.  0.  0.  0.  0.  0.  0.  0.  0.  0.  0.  0.  0.  0.  0.  0.\n",
      "  0.  0.  0.  0.  0.  0.  0.  0.  0.  0.  0.  0.  0.  0.  0.  0.  0.  0.\n",
      "  0.  0.  0.  0.  0.  0.  0.  0.  0.  0.  0.  0.  0.  0.  0.  0.  0.  0.\n",
      "  0.  0.  0.  0.  0.  0.  0.  0.  0.  0.  0.  0.  0.  0.  0.  0.  0.  0.\n",
      "  0.  0.  0.  0.  0.  0.  0.  0.  0.  0.  0.  0.  0.  0.  0.  0.  0.  0.\n",
      "  0.  0.  0.  0.  0.  0.  0.  0.  0.  0.  0.  0.  0.  0.  0.  0.  0.  0.\n",
      "  0.  0.  0.  0.  0.  0.  0.  0.  0.  0.  0.  0.  0.  0.  0.  0.  0.  0.\n",
      "  0.  0.  0.  0.  0.  0.  0.  0.  0.  0.  0.  0.  0.  0.  0.  0.  0.  0.\n",
      "  0.  0.  0.  0.  0.  0.  0.  0.  0.  0.  0.  0.  0.  0.  0.  0.  0.  0.\n",
      "  0.  0.  0.  0.  0.  0.  0.  0.  0.  0.  0.  0.  0.  0.  0.  0.  0.  0.\n",
      "  0.  0.  0.  0.  0.  0.  0.  0.  0.  0.  0.  0.  0.  0.  0.  0.  0.  0.\n",
      "  0.  0.  0.  0.  0.]\n"
     ]
    },
    {
     "name": "stderr",
     "output_type": "stream",
     "text": [
      "D:\\Software\\Anaconda\\lib\\site-packages\\ipykernel_launcher.py:111: UserWarning: Update your `Conv2D` call to the Keras 2 API: `Conv2D(3, (1, 6), padding=\"same\")`\n",
      "D:\\Software\\Anaconda\\lib\\site-packages\\ipykernel_launcher.py:112: UserWarning: Update your `Conv2D` call to the Keras 2 API: `Conv2D(5, (1, 4), padding=\"same\")`\n",
      "D:\\Software\\Anaconda\\lib\\site-packages\\ipykernel_launcher.py:113: UserWarning: Update your `Conv2D` call to the Keras 2 API: `Conv2D(7, (1, 2), padding=\"same\")`\n"
     ]
    },
    {
     "name": "stdout",
     "output_type": "stream",
     "text": [
      "Train on 16655 samples, validate on 2776 samples\n",
      "Epoch 1/20\n",
      "16655/16655 [==============================] - 14s 868us/step - loss: 15.7628 - acc: 0.1192 - val_loss: 23.8208 - val_acc: 0.1470\n",
      "Epoch 2/20\n",
      "16655/16655 [==============================] - 14s 844us/step - loss: 10.8371 - acc: 0.1862 - val_loss: 21.5001 - val_acc: 0.2068\n",
      "Epoch 3/20\n",
      "16655/16655 [==============================] - 14s 851us/step - loss: 9.3677 - acc: 0.2100 - val_loss: 20.1213 - val_acc: 0.1574\n",
      "Epoch 4/20\n",
      "16655/16655 [==============================] - 14s 842us/step - loss: 8.6562 - acc: 0.2107 - val_loss: 19.4015 - val_acc: 0.1837\n",
      "Epoch 5/20\n",
      "16655/16655 [==============================] - 14s 844us/step - loss: 8.1755 - acc: 0.2132 - val_loss: 19.2634 - val_acc: 0.1783\n",
      "Epoch 6/20\n",
      "16655/16655 [==============================] - 14s 848us/step - loss: 8.0396 - acc: 0.2199 - val_loss: 19.0077 - val_acc: 0.2006\n",
      "Epoch 7/20\n",
      "16655/16655 [==============================] - 15s 871us/step - loss: 7.7965 - acc: 0.2117 - val_loss: 18.6801 - val_acc: 0.1664\n",
      "Epoch 8/20\n",
      "16655/16655 [==============================] - 14s 838us/step - loss: 7.5737 - acc: 0.2210 - val_loss: 18.3565 - val_acc: 0.2439\n",
      "Epoch 9/20\n",
      "16655/16655 [==============================] - 14s 832us/step - loss: 7.3810 - acc: 0.2219 - val_loss: 18.2636 - val_acc: 0.1765\n",
      "Epoch 10/20\n",
      "16655/16655 [==============================] - 14s 842us/step - loss: 7.2870 - acc: 0.2232 - val_loss: 18.0735 - val_acc: 0.1920\n",
      "Epoch 11/20\n",
      "16655/16655 [==============================] - 14s 840us/step - loss: 7.1605 - acc: 0.2226 - val_loss: 18.2591 - val_acc: 0.1635\n",
      "Epoch 12/20\n",
      "16655/16655 [==============================] - 14s 831us/step - loss: 7.1379 - acc: 0.2219 - val_loss: 18.0338 - val_acc: 0.1974\n",
      "Epoch 13/20\n",
      "16655/16655 [==============================] - 14s 831us/step - loss: 7.0341 - acc: 0.2241 - val_loss: 18.2858 - val_acc: 0.1646\n",
      "Epoch 14/20\n",
      "16655/16655 [==============================] - 14s 839us/step - loss: 7.0321 - acc: 0.2277 - val_loss: 17.9351 - val_acc: 0.1938\n",
      "Epoch 15/20\n",
      "16655/16655 [==============================] - 14s 840us/step - loss: 6.9202 - acc: 0.2270 - val_loss: 18.0050 - val_acc: 0.1704\n",
      "Epoch 16/20\n",
      "16655/16655 [==============================] - 14s 842us/step - loss: 7.0128 - acc: 0.2328 - val_loss: 18.0687 - val_acc: 0.1643\n",
      "Epoch 17/20\n",
      "16655/16655 [==============================] - 14s 840us/step - loss: 6.9312 - acc: 0.2235 - val_loss: 17.7938 - val_acc: 0.1891\n",
      "Epoch 18/20\n",
      "16655/16655 [==============================] - 14s 846us/step - loss: 6.8759 - acc: 0.2217 - val_loss: 17.9225 - val_acc: 0.1888\n",
      "Epoch 19/20\n",
      "16655/16655 [==============================] - 14s 846us/step - loss: 6.8209 - acc: 0.2205 - val_loss: 17.7974 - val_acc: 0.1942\n",
      "Epoch 20/20\n",
      "16655/16655 [==============================] - 14s 836us/step - loss: 6.7713 - acc: 0.2293 - val_loss: 17.9342 - val_acc: 0.2046\n",
      "Model took 281.42 seconds to train\n",
      "[(0, 0.43286573146292584), (1, 0.6182760855476346), (2, 0.7054698457223002), (3, 0.6088050314465409), (4, 0.7356797791580401), (5, 0.7235955056179776), (6, 0.7487179487179488), (7, 0.763758389261745), (8, 0.7812274368231046), (9, 0.7170311464546058), (10, 0.7369175627240142), (11, 0.7726063829787234), (12, 0.7601156069364161), (13, 0.8014285714285714), (14, 0.7812061711079944), (15, 0.8610169491525423), (16, 0.8049901510177282), (17, 0.8172484599589322), (18, 0.7548387096774193), (19, 0.8286304198210598)]\n",
      "precision = 0.8298045130227971\n",
      "recall = 0.8766930195501624\n",
      "f1 = 0.8526046012635594\n"
     ]
    },
    {
     "data": {
      "image/png": "[encoded data removed]",
      "text/plain": [
       "<matplotlib.figure.Figure at 0x237820b7b70>"
      ]
     },
     "metadata": {},
     "output_type": "display_data"
    }
   ],
   "source": [
    "\n",
    "\n",
    "# get ranking plot for test set\n",
    "\n",
    "#alpha_to_test = [1 - 5e-3, 1 - 1e-2, 1 - 5e-2, 1 - 1e-1, 1 - 4e-2]\n",
    "alpha_to_test = [0.95]\n",
    "factor_to_test = [2]\n",
    "\n",
    "f1_ls = []\n",
    "\n",
    "for t in factor_to_test:\n",
    "    f1_ls.append(buildFeatureAndTrain(0.95,t))\n",
    "    \n",
    "\n",
    "    "
   ]
  },
  {
   "cell_type": "code",
   "execution_count": 37,
   "metadata": {},
   "outputs": [
    {
     "data": {
      "text/plain": [
       "Text(0.5,0,'factor multiplies std')"
      ]
     },
     "execution_count": 37,
     "metadata": {},
     "output_type": "execute_result"
    },
    {
     "data": {
      "image/png": "[encoded data removed]",
      "text/plain": [
       "<matplotlib.figure.Figure at 0x237e12aab00>"
      ]
     },
     "metadata": {},
     "output_type": "display_data"
    }
   ],
   "source": [
    "fig1 = plt.figure()\n",
    "ax1 = fig1.add_subplot(111)\n",
    "#ax1.scatter(rank_x,rank_y,s=4)\n",
    "ax1.scatter(factor_to_test,f1_ls)\n",
    "ax1.plot(factor_to_test,f1_ls)\n",
    "ax1.set_ylabel('f 1')\n",
    "ax1.set_xlabel('factor multiplies std')"
   ]
  },
  {
   "cell_type": "code",
   "execution_count": null,
   "metadata": {
    "collapsed": true
   },
   "outputs": [],
   "source": [
    "print(len(prediction))"
   ]
  },
  {
   "cell_type": "code",
   "execution_count": null,
   "metadata": {
    "collapsed": true
   },
   "outputs": [],
   "source": [
    "index_ls = []\n",
    "tmp_count = 0\n",
    "for i in range(maxLength):\n",
    "    index_ls.append(tmp_count)\n",
    "    tmp_count+=1"
   ]
  },
  {
   "cell_type": "code",
   "execution_count": null,
   "metadata": {
    "collapsed": true
   },
   "outputs": [],
   "source": [
    "fig2 = plt.figure()\n",
    "ax2 = fig2.add_subplot(111)\n",
    "ax2.scatter(index_ls,prediction[0],s=4)"
   ]
  },
  {
   "cell_type": "code",
   "execution_count": null,
   "metadata": {
    "collapsed": true
   },
   "outputs": [],
   "source": [
    "print(np.histogram(np.array(prediction[0])))"
   ]
  },
  {
   "cell_type": "code",
   "execution_count": null,
   "metadata": {
    "collapsed": true
   },
   "outputs": [],
   "source": [
    "# 2*std + mean\n",
    "precision = 0.8298045130227971\n",
    "recall = 0.8766930195501624\n",
    "f1 = 0.8526046012635594"
   ]
  }
 ],
 "metadata": {
  "kernelspec": {
   "display_name": "Python 3",
   "language": "python",
   "name": "python3"
  },
  "language_info": {
   "codemirror_mode": {
    "name": "ipython",
    "version": 3
   },
   "file_extension": ".py",
   "mimetype": "text/x-python",
   "name": "python",
   "nbconvert_exporter": "python",
   "pygments_lexer": "ipython3",
   "version": "3.6.3"
  }
 },
 "nbformat": 4,
 "nbformat_minor": 2
}
