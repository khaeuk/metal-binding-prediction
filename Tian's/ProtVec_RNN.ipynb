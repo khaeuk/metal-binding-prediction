{
 "cells": [
  {
   "cell_type": "markdown",
   "metadata": {
    "slideshow": {
     "slide_type": "slide"
    }
   },
   "source": [
    "## ProtVec + RNN"
   ]
  },
  {
   "cell_type": "code",
   "execution_count": null,
   "metadata": {
    "collapsed": true,
    "scrolled": true,
    "slideshow": {
     "slide_type": "skip"
    }
   },
   "outputs": [],
   "source": [
    "import numpy as np\n",
    "import pandas as pd\n",
    "\n",
    "df = pd.read_parquet('Metal_all_20180116.snappy.parquet')\n",
    "# print ('***** Data Types *****' + '\\n' + str(df.dtypes) + '\\n\\n' + \n",
    "#        '***** Unique Ligands *****' + '\\n' + str(df.ligandId.unique()))\n",
    "\n",
    "# Extract zinc-binded, single-chained protein sequences\n",
    "df_zn = df.loc[df['ligandId'] == 'ZN']\n",
    "df_zn_single = df_zn.loc[df_zn['interactingChains'] == 1]\n",
    "seqs = np.array(df_zn_single.sequence)\n",
    "target = np.array(df_zn_single.fingerprint)\n",
    "\n",
    "del df,df_zn,df_zn_single"
   ]
  },
  {
   "cell_type": "markdown",
   "metadata": {},
   "source": [
    "#### (Buggy) Construct dict from seqs without U,X"
   ]
  },
  {
   "cell_type": "raw",
   "metadata": {
    "deletable": false,
    "editable": false,
    "run_control": {
     "frozen": true
    }
   },
   "source": [
    "seqs_noUX = np.array(df.sequence)\n",
    "target_noUX = np.array(df.fingerprint)\n",
    "print (target_noUX.shape)\n",
    "\n",
    "# For All sequences in dataset\n",
    "rows_to_delete = []\n",
    "for i in range(seqs_noUX.shape[0]):\n",
    "    if 'X' in seqs_noUX[i] or 'U' in seqs_noUX[i]:\n",
    "        print('Removing...' + str(i))\n",
    "        rows_to_delete.append(i)        \n",
    "        \n",
    "seqs_noUX = np.delete(seqs_noUX, rows_to_delete, 0)\n",
    "target_noUX = np.delete(target_noUX, rows_to_delete)\n",
    "print (\"Sequence length is \" + str(seqs_noUX.shape[0]))"
   ]
  },
  {
   "cell_type": "code",
   "execution_count": null,
   "metadata": {
    "deletable": false,
    "editable": false
   },
   "outputs": [],
   "source": [
    "# Remove seqs containing 'U' and 'X'\n",
    "rows_to_delete = []\n",
    "for i in range(seqs.shape[0]):\n",
    "    if 'X' in seqs[i] or 'U' in seqs[i]:\n",
    "#         print('Removing...' + str(i))\n",
    "        rows_to_delete.append(i)        \n",
    "        \n",
    "seqs = np.delete(seqs, rows_to_delete, 0)\n",
    "target = np.delete(target, rows_to_delete)\n",
    "print (\"Sequence length is \" + str(seqs.shape[0]))"
   ]
  },
  {
   "cell_type": "markdown",
   "metadata": {
    "slideshow": {
     "slide_type": "subslide"
    }
   },
   "source": [
    "### Get vector representation of sequences"
   ]
  },
  {
   "cell_type": "code",
   "execution_count": 15,
   "metadata": {
    "ExecuteTime": {
     "end_time": "2018-02-27T08:47:26.490065Z",
     "start_time": "2018-02-27T08:47:26.485051Z"
    },
    "collapsed": true,
    "slideshow": {
     "slide_type": "fragment"
    }
   },
   "outputs": [],
   "source": [
    "n_gram_size = 3\n",
    "dimension = 100\n",
    "\n",
    "# Filepaths\n",
    "dict_path = \"./dictionaries/\"\n",
    "model_path = \"./models/\"\n",
    "hist_path = \"./histories/\"\n",
    "\n",
    "\n",
    "# Whether to use simple onehot encoding for inputs\n",
    "UseOnehot = False\n",
    "UseReplicate = True\n"
   ]
  },
  {
   "cell_type": "raw",
   "metadata": {
    "slideshow": {
     "slide_type": "fragment"
    }
   },
   "source": [
    "import biovec\n",
    "\n",
    "# A very simple protein sequences to fasta file conversion\n",
    "def convertSeqsToFasta (seqs, filename):\n",
    "    file = open(filename, 'w')\n",
    "    size = seqs.shape[0]\n",
    "    for i,l in zip(range(size),seqs):\n",
    "        file.write('>' + str(i) + '\\n')\n",
    "        file.write(l + '\\n') "
   ]
  },
  {
   "cell_type": "raw",
   "metadata": {
    "deletable": false,
    "editable": false,
    "run_control": {
     "frozen": true
    },
    "slideshow": {
     "slide_type": "fragment"
    }
   },
   "source": [
    "filename = 'exclude_U_X.fasta'\n",
    "convertSeqsToFasta(seqs=seqs_noUX, filename=filename)\n",
    "pv = biovec.models.ProtVec(corpus_fname=filename, n=n_gram_size, size=dimension)"
   ]
  },
  {
   "cell_type": "raw",
   "metadata": {
    "collapsed": true,
    "deletable": false,
    "editable": false,
    "run_control": {
     "frozen": true
    },
    "slideshow": {
     "slide_type": "subslide"
    }
   },
   "source": [
    "import json\n",
    "\n",
    "def construct_n_gram_to_vector_dict(filename, seqs, pv, n_gram_size):\n",
    "    n_gram_to_vec = {}\n",
    "    \n",
    "    for i in range(seqs.shape[0]):\n",
    "        for j in range(len(seqs[i])-(n_gram_size-1)):\n",
    "            word = seqs[i][j:j+n_gram_size]\n",
    "            n_gram_to_vec[word] = pv[word].tolist()\n",
    "    with open(filename, 'w') as fp:\n",
    "        json.dump(n_gram_to_vec, fp)  \n",
    "    print (\"Done\")\n"
   ]
  },
  {
   "cell_type": "raw",
   "metadata": {
    "collapsed": true,
    "slideshow": {
     "slide_type": "fragment"
    }
   },
   "source": [
    "# Write\n",
    "construct_n_gram_to_vector_dict(dict_path + \"seqs_to_vec_noUX\", seqs, pv, n_gram_size)"
   ]
  },
  {
   "cell_type": "code",
   "execution_count": 3,
   "metadata": {
    "ExecuteTime": {
     "end_time": "2018-02-27T04:37:38.330275Z",
     "start_time": "2018-02-27T04:37:37.820919Z"
    },
    "collapsed": true,
    "slideshow": {
     "slide_type": "fragment"
    }
   },
   "outputs": [],
   "source": [
    "# Load\n",
    "seqs_dict = {}\n",
    "with open(dict_path + \"seq_n_gram_to_vec_dict_w_UX\", 'r') as fp:\n",
    "        seqs_dict = json.load(fp)"
   ]
  },
  {
   "cell_type": "markdown",
   "metadata": {},
   "source": [
    "#### Input onehot encoding"
   ]
  },
  {
   "cell_type": "code",
   "execution_count": null,
   "metadata": {
    "collapsed": true,
    "deletable": false,
    "editable": false,
    "run_control": {
     "frozen": true
    }
   },
   "outputs": [],
   "source": [
    "onehot_keys = []\n",
    "for i in range(seqs.shape[0]):\n",
    "    for j in range(len(seqs[i])):\n",
    "        if seqs[i][j] not in onehot_keys:\n",
    "            onehot_keys.append(seqs[i][j])\n",
    "# import operator\n",
    "# print (sorted(seqs_dict_onehot.items(), key=operator.itemgetter(1)))\n",
    "onehot_keys = np.array(onehot_keys).reshape(-1)\n",
    "np.random.shuffle(onehot_keys)\n",
    "\n",
    "seqs_dict_onehot = {}\n",
    "onehot_matrix = np.eye(onehot_keys.shape[0])\n",
    "for i in range(onehot_keys.shape[0]):\n",
    "    seqs_dict_onehot[onehot_keys[i]] = onehot_matrix[i].tolist()"
   ]
  },
  {
   "cell_type": "raw",
   "metadata": {
    "deletable": false,
    "editable": false,
    "run_control": {
     "frozen": true
    }
   },
   "source": [
    "import json\n",
    "with open(dict_path + \"seqs_dict_onehot\", 'w') as fp:\n",
    "    json.dump(seqs_dict_onehot, fp)"
   ]
  },
  {
   "cell_type": "code",
   "execution_count": 16,
   "metadata": {
    "ExecuteTime": {
     "end_time": "2018-02-27T08:47:39.716878Z",
     "start_time": "2018-02-27T08:47:39.712869Z"
    },
    "collapsed": true,
    "deletable": false,
    "editable": false,
    "run_control": {
     "frozen": true
    }
   },
   "outputs": [],
   "source": [
    "seqs_dict_onehot = {}\n",
    "with open(dict_path + \"seqs_dict_onehot\", 'r') as fp:\n",
    "        seqs_dict_onehot = json.load(fp)"
   ]
  },
  {
   "cell_type": "code",
   "execution_count": null,
   "metadata": {
    "collapsed": true,
    "deletable": false,
    "editable": false,
    "run_control": {
     "frozen": true
    }
   },
   "outputs": [],
   "source": [
    "if UseOnehot:\n",
    "    n_gram_size = 1\n",
    "    dimension = onehot_keys.shape[0]\n",
    "    seqs_dict = seqs_dict_onehot"
   ]
  },
  {
   "cell_type": "markdown",
   "metadata": {
    "slideshow": {
     "slide_type": "subslide"
    }
   },
   "source": [
    "### Construct feature vector"
   ]
  },
  {
   "cell_type": "code",
   "execution_count": null,
   "metadata": {
    "collapsed": true,
    "slideshow": {
     "slide_type": "fragment"
    }
   },
   "outputs": [],
   "source": [
    "# Data from previous sections\n",
    "# seqs, target, seqs_dict\n",
    "# dimension"
   ]
  },
  {
   "cell_type": "code",
   "execution_count": null,
   "metadata": {
    "collapsed": true,
    "deletable": false,
    "editable": false,
    "slideshow": {
     "slide_type": "subslide"
    }
   },
   "outputs": [],
   "source": [
    "import matplotlib.pyplot as plt\n",
    "\n",
    "# Plot distribution of sequence lengths\n",
    "lengths = []\n",
    "for item in seqs:\n",
    "    lengths.append(len(item))\n",
    "\n",
    "fig = plt.figure(0)\n",
    "ax = fig.add_subplot(111)\n",
    "ax.set_title('Sequence Length Distribution')\n",
    "n, bins, rectangles = ax.hist(lengths, 200)\n",
    "fig.canvas.draw()\n",
    "plt.show()"
   ]
  },
  {
   "cell_type": "code",
   "execution_count": 4,
   "metadata": {
    "ExecuteTime": {
     "end_time": "2018-02-27T04:37:44.904989Z",
     "start_time": "2018-02-27T04:37:44.795699Z"
    },
    "collapsed": true,
    "deletable": false,
    "editable": false
   },
   "outputs": [],
   "source": [
    "# Onehot encoding given a cutoff (Padded with 0s / Replicate partial sequence at the end)\n",
    "def to_onehot(target_single, cutoff, seq_size, replicate=False):\n",
    "    t = [0] * cutoff\n",
    "    offset = cutoff - seq_size\n",
    "    for i in target_single:\n",
    "        t[i] = 1 \n",
    "        if replicate and (i >= seq_size-offset) and (i < seq_size):\n",
    "            t[offset+i] = 1\n",
    "    return t\n",
    "\n",
    "# Convert n-gram to vector given a dictionary\n",
    "def to_vector(seqs_dict, seq, index, n_gram_size, dimension):\n",
    "    if (index+n_gram_size) < len(seq):\n",
    "        word = seq[index: index+n_gram_size]\n",
    "        if '0' not in word:\n",
    "            if word in seqs_dict.keys():\n",
    "                return seqs_dict[word]\n",
    "    return [0] * dimension\n",
    "\n",
    "# Discard sequences longer than the cutoff and reconstruct datasets\n",
    "def optimal_cutoff(seqs, target, cutoff, replicate=False):\n",
    "    new_seqs = []\n",
    "    new_target = []\n",
    "    new_lengths = []\n",
    "    for i, s, t in zip(range(seqs.shape[0]), seqs, target):\n",
    "        if len(s) <= cutoff:\n",
    "            if replicate:\n",
    "                offset = cutoff-len(s)\n",
    "                s = s + s[len(s)-offset : len(s)]\n",
    "                new_seqs.append(s)\n",
    "            else:\n",
    "                new_seqs.append(s + (cutoff-len(s)) * '0')\n",
    "            new_target.append(to_onehot(t,cutoff,len(s), replicate))\n",
    "            new_lengths.append(len(s))\n",
    "    return new_seqs, new_target, new_lengths\n",
    "\n",
    "# Construct input tensor (Num_Samples x Cutoff X Dimension)\n",
    "def construct_X(seqs_dict, seqs, cutoff, n_gram_size, dimension, sample_size, start_index):\n",
    "    X = np.zeros((sample_size, cutoff, dimension))\n",
    "    for i in range(sample_size):\n",
    "        for j in range(cutoff):\n",
    "            X[i][j] = np.array(to_vector(seqs_dict, seqs[start_index + i], j, n_gram_size, dimension))\n",
    "    return X\n",
    "\n",
    "# Get a pair of inputs for testing\n",
    "def randomSample(X, Y):\n",
    "    size = X.shape[0]\n",
    "#     print (X.shape)\n",
    "#     print (Y.shape)\n",
    "    r = np.random.randint(size)\n",
    "    retX = X[r].reshape((1, X.shape[1], X.shape[2]))\n",
    "    retY = Y[r].reshape((1, Y.shape[1]))\n",
    "    return (retX, retY)\n",
    "\n",
    "# Paired randomization \n",
    "def shuffleXY(X, Y):\n",
    "    C = list(zip(X, Y))\n",
    "    random.shuffle(C)\n",
    "    X_ret, Y_ret = zip(*C)\n",
    "    return X_ret, Y_ret"
   ]
  },
  {
   "cell_type": "code",
   "execution_count": 5,
   "metadata": {
    "ExecuteTime": {
     "end_time": "2018-02-27T04:37:47.303367Z",
     "start_time": "2018-02-27T04:37:47.010589Z"
    },
    "slideshow": {
     "slide_type": "subslide"
    }
   },
   "outputs": [
    {
     "name": "stdout",
     "output_type": "stream",
     "text": [
      "Cutoff is 706\n",
      "Training set size is 19612\n",
      "Test set size is 2180\n"
     ]
    }
   ],
   "source": [
    "lengths = np.zeros(len(seqs))\n",
    "for i in range(len(seqs)):\n",
    "    lengths[i] = len(seqs[i])\n",
    "\n",
    "cutoff = int(np.mean(lengths) + 2 * np.std(lengths))\n",
    "print ('Cutoff is ' + str(cutoff))\n",
    "cv_ratio = 0.9\n",
    "\n",
    "X, T, L = optimal_cutoff(seqs, target, cutoff, UseReplicate)\n",
    "X_train, X_val = X[:(int)(len(X) * cv_ratio)], X[(int)(len(X) * cv_ratio):]\n",
    "T_train, T_val = T[:(int)(len(T) * cv_ratio)], T[(int)(len(T) * cv_ratio):]\n",
    "print ('Training set size is ' + str(len(X_train)))\n",
    "print ('Test set size is ' + str(len(X_val)))"
   ]
  },
  {
   "cell_type": "code",
   "execution_count": 6,
   "metadata": {
    "ExecuteTime": {
     "end_time": "2018-02-27T04:38:00.010155Z",
     "start_time": "2018-02-27T04:37:55.662675Z"
    },
    "deletable": false,
    "editable": false,
    "slideshow": {
     "slide_type": "skip"
    }
   },
   "outputs": [
    {
     "name": "stderr",
     "output_type": "stream",
     "text": [
      "Using TensorFlow backend.\n"
     ]
    }
   ],
   "source": [
    "from keras.models import Sequential\n",
    "from keras.layers import LSTM, Dense,Dropout, TimeDistributed, Bidirectional\n",
    "from keras.callbacks import Callback\n",
    "from keras.models import load_model\n",
    "\n",
    "import random\n",
    "\n",
    "# from sklearn.preprocessing import MinMaxScaler\n",
    "# from sklearn.metrics import mean_squared_error\n",
    "# from tensorflow.python.client import device_lib\n",
    "# print(device_lib.list_local_devices())"
   ]
  },
  {
   "cell_type": "code",
   "execution_count": 10,
   "metadata": {
    "ExecuteTime": {
     "end_time": "2018-02-27T04:41:06.505460Z",
     "start_time": "2018-02-27T04:41:05.090080Z"
    },
    "collapsed": true,
    "deletable": false,
    "editable": false,
    "slideshow": {
     "slide_type": "subslide"
    }
   },
   "outputs": [],
   "source": [
    "from sklearn.metrics import roc_auc_score\n",
    "\n",
    "class roc_callback(Callback):\n",
    "    def __init__(self,training_data,validation_data):\n",
    "        self.x = training_data[0]\n",
    "        self.y = training_data[1]\n",
    "        self.x_val = validation_data[0]\n",
    "        self.y_val = validation_data[1]\n",
    "        self.roc_scores = []\n",
    "\n",
    "    def on_train_begin(self, logs={}):\n",
    "        self.roc_scores = []\n",
    "        return\n",
    "    def on_train_end(self, logs={}):\n",
    "        return \n",
    "#     def on_epoch_begin(self, epoch, logs={}):\n",
    "#         return\n",
    "\n",
    "    def on_epoch_end(self, epoch, logs={}):\n",
    "        y_pred = self.model.predict(self.x)\n",
    "#         print (self.y.shape, y_pred.shape)\n",
    "        roc = roc_auc_score(self.y.ravel(), y_pred.ravel())\n",
    "        y_pred_val = self.model.predict(self.x_val)\n",
    "#         print (self.y_val.shape, y_pred_val.shape)\n",
    "\n",
    "        roc_val = roc_auc_score(self.y_val.ravel(), y_pred_val.ravel())\n",
    "#         print('\\rroc-auc: %s - roc-auc_val: %s' % (str(round(roc,4)),str(round(roc_val,4))),end=100*' '+'\\n')\n",
    "        self.roc_scores.append((round(roc,4), round(roc_val,4)))\n",
    "        return \n",
    "\n",
    "#     def on_batch_begin(self, batch, logs={}):\n",
    "#         return\n",
    "#     def on_batch_end(self, batch, logs={}):\n",
    "#         return"
   ]
  },
  {
   "cell_type": "raw",
   "metadata": {
    "collapsed": true
   },
   "source": [
    "model = load_model(model_path + \"example\")"
   ]
  },
  {
   "cell_type": "markdown",
   "metadata": {},
   "source": [
    "### BRNN"
   ]
  },
  {
   "cell_type": "code",
   "execution_count": 7,
   "metadata": {
    "ExecuteTime": {
     "end_time": "2018-02-27T04:38:08.630076Z",
     "start_time": "2018-02-27T04:38:08.006416Z"
    }
   },
   "outputs": [
    {
     "name": "stdout",
     "output_type": "stream",
     "text": [
      "_________________________________________________________________\n",
      "Layer (type)                 Output Shape              Param #   \n",
      "=================================================================\n",
      "bidirectional_1 (Bidirection (None, 706, 128)          234496    \n",
      "_________________________________________________________________\n",
      "dropout_1 (Dropout)          (None, 706, 128)          0         \n",
      "_________________________________________________________________\n",
      "time_distributed_1 (TimeDist (None, 706, 1)            129       \n",
      "=================================================================\n",
      "Total params: 234,625\n",
      "Trainable params: 234,625\n",
      "Non-trainable params: 0\n",
      "_________________________________________________________________\n"
     ]
    }
   ],
   "source": [
    "# Build Model\n",
    "bd_model = Sequential()\n",
    "# model.add()\n",
    "bd_model.add(Bidirectional(LSTM(128, return_sequences=True), input_shape=(cutoff,dimension), merge_mode='ave'))\n",
    "bd_model.add(Dropout(0.2))\n",
    "bd_model.add(TimeDistributed(Dense(1, activation='tanh')))\n",
    "bd_model.compile(loss='binary_crossentropy', optimizer='adam', metrics=[])\n",
    "bd_model.summary()"
   ]
  },
  {
   "cell_type": "code",
   "execution_count": 8,
   "metadata": {
    "ExecuteTime": {
     "end_time": "2018-02-27T04:38:17.154522Z",
     "start_time": "2018-02-27T04:38:17.151511Z"
    },
    "collapsed": true
   },
   "outputs": [],
   "source": [
    "model = bd_model"
   ]
  },
  {
   "cell_type": "code",
   "execution_count": 11,
   "metadata": {
    "ExecuteTime": {
     "end_time": "2018-02-27T08:40:03.764176Z",
     "start_time": "2018-02-27T04:41:15.015816Z"
    },
    "collapsed": true
   },
   "outputs": [
    {
     "name": "stdout",
     "output_type": "stream",
     "text": [
      "\n",
      "\n",
      "*** Epoch  1  ***\n",
      "[0] to [1000]\n",
      "[1000] to [2000]\n",
      "[2000] to [3000]\n",
      "[3000] to [4000]\n",
      "[4000] to [5000]\n",
      "[5000] to [6000]\n",
      "[6000] to [7000]\n",
      "[7000] to [8000]\n",
      "[8000] to [9000]\n",
      "[9000] to [10000]\n",
      "[10000] to [11000]\n",
      "[11000] to [12000]\n",
      "[12000] to [13000]\n",
      "[13000] to [14000]\n",
      "[14000] to [15000]\n",
      "[15000] to [16000]\n",
      "[16000] to [17000]\n",
      "[17000] to [18000]\n",
      "[18000] to [19000]\n",
      "[19000] to [19612]\n",
      "\n",
      "\n",
      "*** Epoch  2  ***\n",
      "[0] to [1000]\n",
      "[1000] to [2000]\n",
      "[2000] to [3000]\n",
      "[3000] to [4000]\n",
      "[4000] to [5000]\n",
      "[5000] to [6000]\n",
      "[6000] to [7000]\n",
      "[7000] to [8000]\n",
      "[8000] to [9000]\n",
      "[9000] to [10000]\n",
      "[10000] to [11000]\n",
      "[11000] to [12000]\n",
      "[12000] to [13000]\n",
      "[13000] to [14000]\n",
      "[14000] to [15000]\n",
      "[15000] to [16000]\n",
      "[16000] to [17000]\n",
      "[17000] to [18000]\n",
      "[18000] to [19000]\n",
      "[19000] to [19612]\n",
      "\n",
      "\n",
      "*** Epoch  3  ***\n",
      "[0] to [1000]\n",
      "[1000] to [2000]\n",
      "[2000] to [3000]\n",
      "[3000] to [4000]\n",
      "[4000] to [5000]\n",
      "[5000] to [6000]\n",
      "[6000] to [7000]\n",
      "[7000] to [8000]\n",
      "[8000] to [9000]\n",
      "[9000] to [10000]\n",
      "[10000] to [11000]\n",
      "[11000] to [12000]\n",
      "[12000] to [13000]\n",
      "[13000] to [14000]\n",
      "[14000] to [15000]\n",
      "[15000] to [16000]\n",
      "[16000] to [17000]\n",
      "[17000] to [18000]\n",
      "[18000] to [19000]\n",
      "[19000] to [19612]\n",
      "\n",
      "\n",
      "*** Epoch  4  ***\n",
      "[0] to [1000]\n",
      "[1000] to [2000]\n",
      "[2000] to [3000]\n",
      "[3000] to [4000]\n",
      "[4000] to [5000]\n",
      "[5000] to [6000]\n",
      "[6000] to [7000]\n",
      "[7000] to [8000]\n",
      "[8000] to [9000]\n",
      "[9000] to [10000]\n",
      "[10000] to [11000]\n",
      "[11000] to [12000]\n",
      "[12000] to [13000]\n",
      "[13000] to [14000]\n",
      "[14000] to [15000]\n",
      "[15000] to [16000]\n",
      "[16000] to [17000]\n",
      "[17000] to [18000]\n",
      "[18000] to [19000]\n",
      "[19000] to [19612]\n",
      "\n",
      "\n",
      "*** Epoch  5  ***\n",
      "[0] to [1000]\n",
      "[1000] to [2000]\n",
      "[2000] to [3000]\n",
      "[3000] to [4000]\n",
      "[4000] to [5000]\n",
      "[5000] to [6000]\n",
      "[6000] to [7000]\n",
      "[7000] to [8000]\n",
      "[8000] to [9000]\n",
      "[9000] to [10000]\n",
      "[10000] to [11000]\n",
      "[11000] to [12000]\n",
      "[12000] to [13000]\n",
      "[13000] to [14000]\n",
      "[14000] to [15000]\n",
      "[15000] to [16000]\n",
      "[16000] to [17000]\n",
      "[17000] to [18000]\n",
      "[18000] to [19000]\n",
      "[19000] to [19612]\n",
      "\n",
      "\n",
      "*** Epoch  6  ***\n",
      "[0] to [1000]\n",
      "[1000] to [2000]\n",
      "[2000] to [3000]\n",
      "[3000] to [4000]\n",
      "[4000] to [5000]\n",
      "[5000] to [6000]\n",
      "[6000] to [7000]\n",
      "[7000] to [8000]\n",
      "[8000] to [9000]\n",
      "[9000] to [10000]\n",
      "[10000] to [11000]\n",
      "[11000] to [12000]\n",
      "[12000] to [13000]\n",
      "[13000] to [14000]\n",
      "[14000] to [15000]\n",
      "[15000] to [16000]\n",
      "[16000] to [17000]\n",
      "[17000] to [18000]\n",
      "[18000] to [19000]\n",
      "[19000] to [19612]\n",
      "\n",
      "\n",
      "*** Epoch  7  ***\n",
      "[0] to [1000]\n",
      "[1000] to [2000]\n",
      "[2000] to [3000]\n",
      "[3000] to [4000]\n",
      "[4000] to [5000]\n",
      "[5000] to [6000]\n",
      "[6000] to [7000]\n",
      "[7000] to [8000]\n",
      "[8000] to [9000]\n",
      "[9000] to [10000]\n",
      "[10000] to [11000]\n",
      "[11000] to [12000]\n",
      "[12000] to [13000]\n",
      "[13000] to [14000]\n",
      "[14000] to [15000]\n",
      "[15000] to [16000]\n",
      "[16000] to [17000]\n",
      "[17000] to [18000]\n",
      "[18000] to [19000]\n",
      "[19000] to [19612]\n",
      "\n",
      "\n",
      "*** Epoch  8  ***\n",
      "[0] to [1000]\n",
      "[1000] to [2000]\n",
      "[2000] to [3000]\n",
      "[3000] to [4000]\n",
      "[4000] to [5000]\n",
      "[5000] to [6000]\n",
      "[6000] to [7000]\n",
      "[7000] to [8000]\n",
      "[8000] to [9000]\n",
      "[9000] to [10000]\n",
      "[10000] to [11000]\n",
      "[11000] to [12000]\n",
      "[12000] to [13000]\n",
      "[13000] to [14000]\n",
      "[14000] to [15000]\n",
      "[15000] to [16000]\n",
      "[16000] to [17000]\n",
      "[17000] to [18000]\n",
      "[18000] to [19000]\n",
      "[19000] to [19612]\n",
      "\n",
      "\n",
      "*** Epoch  9  ***\n",
      "[0] to [1000]\n",
      "[1000] to [2000]\n",
      "[2000] to [3000]\n",
      "[3000] to [4000]\n",
      "[4000] to [5000]\n",
      "[5000] to [6000]\n",
      "[6000] to [7000]\n",
      "[7000] to [8000]\n",
      "[8000] to [9000]\n",
      "[9000] to [10000]\n",
      "[10000] to [11000]\n",
      "[11000] to [12000]\n",
      "[12000] to [13000]\n",
      "[13000] to [14000]\n",
      "[14000] to [15000]\n",
      "[15000] to [16000]\n",
      "[16000] to [17000]\n",
      "[17000] to [18000]\n",
      "[18000] to [19000]\n",
      "[19000] to [19612]\n",
      "\n",
      "\n",
      "*** Epoch  10  ***\n",
      "[0] to [1000]\n",
      "[1000] to [2000]\n",
      "[2000] to [3000]\n",
      "[3000] to [4000]\n",
      "[4000] to [5000]\n",
      "[5000] to [6000]\n",
      "[6000] to [7000]\n",
      "[7000] to [8000]\n",
      "[8000] to [9000]\n",
      "[9000] to [10000]\n",
      "[10000] to [11000]\n",
      "[11000] to [12000]\n",
      "[12000] to [13000]\n",
      "[13000] to [14000]\n",
      "[14000] to [15000]\n",
      "[15000] to [16000]\n",
      "[16000] to [17000]\n",
      "[17000] to [18000]\n",
      "[18000] to [19000]\n",
      "[19000] to [19612]\n"
     ]
    }
   ],
   "source": [
    "#Input (50,706,100) = 3,530,000 [141200000] \n",
    "#Output (50,706,1) = 35,300 [1412000]\n",
    "\n",
    "history_of_loss = [] # Accumulated loss over epoch * num_of_samples / fold_size\n",
    "histroy_of_roc = []\n",
    "epoch = 10\n",
    "batch_size = 50 # Minibatch size\n",
    "fold_size = 1000 # Input tensor size (fold_size, cutoff, dimension)\n",
    "\n",
    "def training_procedure():\n",
    "    \n",
    "    # Shuffle batch at each epoch\n",
    "    X_train_shuffled, T_train_shuffled = shuffleXY(X_train, T_train)\n",
    "    X_val_shuffled, T_val_shuffled = shuffleXY(X_val, T_val)\n",
    "    \n",
    "    # Construct validation sets\n",
    "    X_Val = construct_X(seqs_dict, X_val_shuffled, cutoff, n_gram_size, dimension, len(X_val_shuffled), 0)\n",
    "    T_Val = np.array(T_val_shuffled).reshape(len(T_val_shuffled), cutoff,1)\n",
    "    \n",
    "    # 1 to n-1 folds\n",
    "    n = int(len(X_train) / fold_size)\n",
    "    for i in range(n):\n",
    "        print('[' + str(i * fold_size) + '] to [' + str((i+1) * fold_size) + ']')   \n",
    "        X = construct_X(seqs_dict, X_train_shuffled, cutoff, n_gram_size, dimension, fold_size, i * fold_size)\n",
    "        T = np.array(T_train_shuffled[i * fold_size: (i+1) * fold_size]).reshape(fold_size,cutoff,1)\n",
    "\n",
    "#         hist = model.fit(X, T, epochs=1, batch_size=batch_size, verbose=0)\n",
    "        cb = roc_callback((X,T), (X_Val, T_Val))\n",
    "        hist = model.fit(X, T, epochs=1, batch_size=batch_size, verbose=0, \n",
    "                         callbacks=[cb])\n",
    "        \n",
    "        history_of_loss.append(hist.history['loss'])\n",
    "        histroy_of_roc.extend(cb.roc_scores)\n",
    "\n",
    "\n",
    "    # Last fold\n",
    "    last_fold_size = len(X_train) - n * fold_size\n",
    "    print('[' + str(n * fold_size) + '] to [' + str(n * fold_size + last_fold_size) + ']')   \n",
    "\n",
    "    X = construct_X(seqs_dict, X_train_shuffled, cutoff, n_gram_size, dimension, last_fold_size, n * fold_size)\n",
    "    T = np.array(T_train_shuffled[n * fold_size : n * fold_size + last_fold_size]).reshape(last_fold_size,cutoff,1)\n",
    "\n",
    "    cb = roc_callback((X,T), (X_Val, T_Val))\n",
    "    hist = model.fit(X, T, epochs=1, batch_size=batch_size, verbose=0, \n",
    "                         callbacks=[cb])\n",
    "\n",
    "    # hist = model.fit(X, T, epochs=epoch, batch_size=batch_size, verbose=1, \n",
    "    #                     callbacks=[roc_callback((X,T), (X_Val, T_Val))])\n",
    "    history_of_loss.append(hist.history['loss'])\n",
    "    histroy_of_roc.extend(cb.roc_scores)\n",
    "for i in range(epoch):\n",
    "    print ('\\n\\n*** Epoch ', i+1, ' ***')\n",
    "    training_procedure()"
   ]
  },
  {
   "cell_type": "markdown",
   "metadata": {},
   "source": [
    "### Many to Many regular RNN"
   ]
  },
  {
   "cell_type": "code",
   "execution_count": null,
   "metadata": {
    "deletable": false,
    "editable": false,
    "run_control": {
     "frozen": true
    },
    "scrolled": true,
    "slideshow": {
     "slide_type": "fragment"
    }
   },
   "outputs": [],
   "source": [
    "# Build Model\n",
    "model = Sequential()\n",
    "# model.add()\n",
    "model.add(LSTM(128, input_shape=(cutoff,dimension)))\n",
    "model.add(Dropout(0.2))\n",
    "model.add(Dense(cutoff, activation='softmax'))\n",
    "model.compile(loss='binary_crossentropy', optimizer='adam', metrics=[])\n",
    "model.summary()"
   ]
  },
  {
   "cell_type": "code",
   "execution_count": null,
   "metadata": {
    "deletable": false,
    "editable": false,
    "run_control": {
     "frozen": true
    },
    "slideshow": {
     "slide_type": "subslide"
    }
   },
   "outputs": [],
   "source": [
    "#Input (50,706,100) = 3,530,000 [141200000] \n",
    "#Output (50,706,1) = 35,300 [1412000]\n",
    "\n",
    "history_of_loss = [] # Accumulated loss over epoch * num_of_samples / fold_size\n",
    "histroy_of_roc = []\n",
    "epoch = 5\n",
    "batch_size = 50 # Minibatch size\n",
    "fold_size = 1000 # Input tensor size (fold_size, cutoff, dimension)\n",
    "\n",
    "def training_procedure():\n",
    "    \n",
    "    # Shuffle batch at each epoch\n",
    "    X_train_shuffled, T_train_shuffled = shuffleXY(X_train, T_train)\n",
    "    X_val_shuffled, T_val_shuffled = shuffleXY(X_val, T_val)\n",
    "    \n",
    "    # Construct validation sets\n",
    "    X_Val = construct_X(seqs_dict, X_val_shuffled, cutoff, n_gram_size, dimension, len(X_val_shuffled), 0)\n",
    "    T_Val = np.array(T_val_shuffled).reshape(len(T_val_shuffled), cutoff)\n",
    "    \n",
    "    # 1 to n-1 folds\n",
    "    n = int(len(X_train) / fold_size)\n",
    "    for i in range(n):\n",
    "        print('[' + str(i * fold_size) + '] to [' + str((i+1) * fold_size) + ']')   \n",
    "        X = construct_X(seqs_dict, X_train_shuffled, cutoff, n_gram_size, dimension, fold_size, i * fold_size)\n",
    "        T = np.array(T_train_shuffled[i * fold_size: (i+1) * fold_size]).reshape(fold_size,cutoff)\n",
    "\n",
    "#         hist = model.fit(X, T, epochs=1, batch_size=batch_size, verbose=0)\n",
    "        cb = roc_callback((X,T), (X_Val, T_Val))\n",
    "        hist = model.fit(X, T, epochs=1, batch_size=batch_size, verbose=0, \n",
    "                         callbacks=[cb])\n",
    "        \n",
    "        history_of_loss.append(hist.history['loss'])\n",
    "        histroy_of_roc.extend(cb.roc_scores)\n",
    "\n",
    "\n",
    "    # Last fold\n",
    "    last_fold_size = len(X_train) - n * fold_size\n",
    "    print('[' + str(n * fold_size) + '] to [' + str(n * fold_size + last_fold_size) + ']')   \n",
    "\n",
    "    X = construct_X(seqs_dict, X_train_shuffled, cutoff, n_gram_size, dimension, last_fold_size, n * fold_size)\n",
    "    T = np.array(T_train_shuffled[n * fold_size : n * fold_size + last_fold_size]).reshape(last_fold_size,cutoff)\n",
    "\n",
    "    cb = roc_callback((X,T), (X_Val, T_Val))\n",
    "    hist = model.fit(X, T, epochs=1, batch_size=batch_size, verbose=0, \n",
    "                         callbacks=[cb])\n",
    "\n",
    "    # hist = model.fit(X, T, epochs=epoch, batch_size=batch_size, verbose=1, \n",
    "    #                     callbacks=[roc_callback((X,T), (X_Val, T_Val))])\n",
    "    history_of_loss.append(hist.history['loss'])\n",
    "    histroy_of_roc.extend(cb.roc_scores)\n",
    "for i in range(epoch):\n",
    "    print ('\\n\\n\\n*** Epoch ', i+1, ' ***')\n",
    "    training_procedure()"
   ]
  },
  {
   "cell_type": "markdown",
   "metadata": {},
   "source": [
    "### Visualization and Backup"
   ]
  },
  {
   "cell_type": "raw",
   "metadata": {
    "ExecuteTime": {
     "end_time": "2018-02-27T08:40:12.295050Z",
     "start_time": "2018-02-27T08:40:12.277001Z"
    }
   },
   "source": [
    "with open(\"./bd_history_replicate\", 'w') as fp:\n",
    "        json.dump((history_of_loss, histroy_of_roc), fp)"
   ]
  },
  {
   "cell_type": "raw",
   "metadata": {
    "ExecuteTime": {
     "end_time": "2018-02-27T08:40:20.950184Z",
     "start_time": "2018-02-27T08:40:20.797359Z"
    },
    "collapsed": true
   },
   "source": [
    "model.save(\"bd_model_replicate_10\")"
   ]
  },
  {
   "cell_type": "raw",
   "metadata": {
    "collapsed": true,
    "deletable": false,
    "editable": false,
    "run_control": {
     "frozen": true
    }
   },
   "source": [
    "plt.figure()\n",
    "lw = 2\n",
    "plt.plot(fpr[2], tpr[2], color='darkorange',\n",
    "         lw=lw, label='ROC curve (area = %0.2f)' % roc_auc[2])\n",
    "plt.plot([0, 1], [0, 1], color='navy', lw=lw, linestyle='--')\n",
    "plt.xlim([0.0, 1.0])\n",
    "plt.ylim([0.0, 1.05])\n",
    "plt.xlabel('False Positive Rate')\n",
    "plt.ylabel('True Positive Rate')\n",
    "plt.title('Receiver operating characteristic example')\n",
    "plt.legend(loc=\"lower right\")\n",
    "plt.show()"
   ]
  },
  {
   "cell_type": "raw",
   "metadata": {
    "collapsed": true,
    "deletable": false,
    "editable": false,
    "run_control": {
     "frozen": true
    },
    "slideshow": {
     "slide_type": "skip"
    }
   },
   "source": [
    "print ('Metrics are [ ' + str(history.history.keys()) + ' ]')"
   ]
  },
  {
   "cell_type": "code",
   "execution_count": 14,
   "metadata": {
    "ExecuteTime": {
     "end_time": "2018-02-27T08:40:30.121571Z",
     "start_time": "2018-02-27T08:40:29.294933Z"
    },
    "deletable": false,
    "editable": false,
    "scrolled": true,
    "slideshow": {
     "slide_type": "subslide"
    }
   },
   "outputs": [
    {
     "data": {
      "image/png": "[encoded data removed]",
      "text/plain": [
       "<matplotlib.figure.Figure at 0x23b618ce550>"
      ]
     },
     "metadata": {},
     "output_type": "display_data"
    }
   ],
   "source": [
    "import matplotlib.pyplot as plt\n",
    "fig = plt.figure(1)\n",
    "ax = fig.add_subplot(111)\n",
    "ax.set_title('Loss over Iterations')\n",
    "ax.plot(history_of_loss)\n",
    "fig.canvas.draw()\n",
    "plt.show()"
   ]
  },
  {
   "cell_type": "code",
   "execution_count": null,
   "metadata": {},
   "outputs": [],
   "source": [
    "print (len(histroy_of_roc))"
   ]
  },
  {
   "cell_type": "code",
   "execution_count": null,
   "metadata": {
    "collapsed": true
   },
   "outputs": [],
   "source": [
    "X_test, T_test = shuffleXY(X_val, T_val)\n",
    "X_t = construct_X(seqs_dict, X_test, cutoff, n_gram_size, dimension, 2000, 0)\n",
    "T_t = np.array(T_test[0: 2000]).reshape(2000,cutoff,1)\n",
    "x_t,y_t = randomSample(X_t, T_t)\n",
    "output = model.predict(x_t)\n",
    "print ('Min ', np.min(output[0]),'Max ',np.max(output[0]))"
   ]
  },
  {
   "cell_type": "code",
   "execution_count": null,
   "metadata": {
    "slideshow": {
     "slide_type": "skip"
    }
   },
   "outputs": [],
   "source": [
    "for i in range(cutoff):\n",
    "    if y_t[0][i] == 1:\n",
    "        print (i, output[0][i])"
   ]
  },
  {
   "cell_type": "code",
   "execution_count": null,
   "metadata": {
    "slideshow": {
     "slide_type": "subslide"
    }
   },
   "outputs": [],
   "source": [
    "print (output.ravel() > 0)"
   ]
  }
 ],
 "metadata": {
  "kernelspec": {
   "display_name": "Python 3",
   "language": "python",
   "name": "python3"
  },
  "varInspector": {
   "cols": {
    "lenName": 16,
    "lenType": 16,
    "lenVar": 40
   },
   "kernels_config": {
    "python": {
     "delete_cmd_postfix": "",
     "delete_cmd_prefix": "del ",
     "library": "var_list.py",
     "varRefreshCmd": "print(var_dic_list())"
    },
    "r": {
     "delete_cmd_postfix": ") ",
     "delete_cmd_prefix": "rm(",
     "library": "var_list.r",
     "varRefreshCmd": "cat(var_dic_list()) "
    }
   },
   "position": {
    "height": "467px",
    "left": "964.4px",
    "right": "20px",
    "top": "214px",
    "width": "349px"
   },
   "types_to_exclude": [
    "module",
    "function",
    "builtin_function_or_method",
    "instance",
    "_Feature"
   ],
   "window_display": false
  }
 },
 "nbformat": 4,
 "nbformat_minor": 2
}
