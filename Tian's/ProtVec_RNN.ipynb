{
 "cells": [
  {
   "cell_type": "markdown",
   "metadata": {
    "slideshow": {
     "slide_type": "slide"
    }
   },
   "source": [
    "## ProtVec + RNN"
   ]
  },
  {
   "cell_type": "code",
   "execution_count": 1,
   "metadata": {
    "ExecuteTime": {
     "end_time": "2018-02-21T19:31:35.770153Z",
     "start_time": "2018-02-21T19:31:35.236849Z"
    },
    "slideshow": {
     "slide_type": "skip"
    }
   },
   "outputs": [
    {
     "name": "stdout",
     "output_type": "stream",
     "text": [
      "Sequence length is 22823\n"
     ]
    }
   ],
   "source": [
    "import numpy as np\n",
    "import pandas as pd\n",
    "\n",
    "df = pd.read_parquet('Metal_all_20180116.snappy.parquet')\n",
    "# print ('***** Data Types *****' + '\\n' + str(df.dtypes) + '\\n\\n' + \n",
    "#        '***** Unique Ligands *****' + '\\n' + str(df.ligandId.unique()))\n",
    "\n",
    "# Extract zinc-binded, single-chained protein sequences\n",
    "df_zn = df.loc[df['ligandId'] == 'ZN']\n",
    "df_zn_single = df_zn.loc[df_zn['interactingChains'] == 1]\n",
    "seqs = np.array(df_zn_single.sequence)\n",
    "target = np.array(df_zn_single.fingerprint)\n",
    "print (\"Sequence length is \" + str(seqs.shape[0]))\n",
    "\n",
    "del df,df_zn,df_zn_single"
   ]
  },
  {
   "cell_type": "markdown",
   "metadata": {
    "slideshow": {
     "slide_type": "subslide"
    }
   },
   "source": [
    "### Get vector representation of sequences"
   ]
  },
  {
   "cell_type": "code",
   "execution_count": 2,
   "metadata": {
    "ExecuteTime": {
     "end_time": "2018-02-21T19:31:36.778361Z",
     "start_time": "2018-02-21T19:31:36.276887Z"
    },
    "slideshow": {
     "slide_type": "fragment"
    }
   },
   "outputs": [
    {
     "name": "stderr",
     "output_type": "stream",
     "text": [
      "C:\\Users\\Tian\\Anaconda3\\lib\\site-packages\\gensim\\utils.py:862: UserWarning: detected Windows; aliasing chunkize to chunkize_serial\n",
      "  warnings.warn(\"detected Windows; aliasing chunkize to chunkize_serial\")\n"
     ]
    }
   ],
   "source": [
    "import biovec\n",
    "\n",
    "# A very simple protein sequences to fasta file conversion\n",
    "def convertSeqsToFasta (seqs, filename):\n",
    "    file = open(filename, 'w')\n",
    "    size = seqs.shape[0]\n",
    "    for i,l in zip(range(size),seqs):\n",
    "        file.write('>' + str(i) + '\\n')\n",
    "        file.write(l + '\\n') "
   ]
  },
  {
   "cell_type": "code",
   "execution_count": 3,
   "metadata": {
    "ExecuteTime": {
     "end_time": "2018-02-21T19:31:36.824455Z",
     "start_time": "2018-02-21T19:31:36.820445Z"
    },
    "collapsed": true,
    "slideshow": {
     "slide_type": "fragment"
    }
   },
   "outputs": [],
   "source": [
    "n_gram_size = 3\n",
    "dimension = 100"
   ]
  },
  {
   "cell_type": "code",
   "execution_count": null,
   "metadata": {
    "collapsed": true,
    "deletable": false,
    "editable": false,
    "run_control": {
     "frozen": true
    },
    "slideshow": {
     "slide_type": "fragment"
    }
   },
   "outputs": [],
   "source": [
    "filename = 'all.fasta'\n",
    "convertSeqsToFasta(seqs=df.sequence, filename=filename)\n",
    "pv = biovec.models.ProtVec(corpus_fname=filename, n=n_gram_size, size=dimension)"
   ]
  },
  {
   "cell_type": "code",
   "execution_count": 4,
   "metadata": {
    "collapsed": true,
    "deletable": false,
    "editable": false,
    "run_control": {
     "frozen": true
    },
    "slideshow": {
     "slide_type": "subslide"
    }
   },
   "outputs": [],
   "source": [
    "import json\n",
    "\n",
    "def construct_n_gram_to_vector_dict(filename, seqs, pv, n_gram_size):\n",
    "    n_gram_to_vec = {}\n",
    "    \n",
    "    for i in range(seqs.shape[0]):\n",
    "        for j in range(len(seqs[i])-(n_gram_size-1)):\n",
    "            word = seqs[i][j:j+n_gram_size]\n",
    "            n_gram_to_vec[word] = pv[word].tolist()\n",
    "    with open(filename, 'w') as fp:\n",
    "        json.dump(n_gram_to_vec, fp)  \n",
    "    print (\"Done\")\n"
   ]
  },
  {
   "cell_type": "code",
   "execution_count": 77,
   "metadata": {
    "deletable": false,
    "editable": false,
    "run_control": {
     "frozen": true
    },
    "scrolled": true,
    "slideshow": {
     "slide_type": "fragment"
    }
   },
   "outputs": [
    {
     "name": "stdout",
     "output_type": "stream",
     "text": [
      "Done\n"
     ]
    }
   ],
   "source": [
    "# Write\n",
    "construct_n_gram_to_vector_dict(\"seq_n_gram_to_vec_dict\", seqs, pv, n_gram_size)"
   ]
  },
  {
   "cell_type": "code",
   "execution_count": 4,
   "metadata": {
    "ExecuteTime": {
     "end_time": "2018-02-21T19:31:40.595855Z",
     "start_time": "2018-02-21T19:31:40.185986Z"
    },
    "collapsed": true,
    "deletable": false,
    "editable": false,
    "slideshow": {
     "slide_type": "fragment"
    }
   },
   "outputs": [],
   "source": [
    "# Load\n",
    "seqs_dict = {}\n",
    "with open(\"seq_n_gram_to_vec_dict\", 'r') as fp:\n",
    "        seqs_dict = json.load(fp)"
   ]
  },
  {
   "cell_type": "markdown",
   "metadata": {
    "slideshow": {
     "slide_type": "subslide"
    }
   },
   "source": [
    "### Construct feature vector"
   ]
  },
  {
   "cell_type": "code",
   "execution_count": 5,
   "metadata": {
    "ExecuteTime": {
     "end_time": "2018-02-21T19:31:41.886560Z",
     "start_time": "2018-02-21T19:31:41.882556Z"
    },
    "collapsed": true,
    "slideshow": {
     "slide_type": "fragment"
    }
   },
   "outputs": [],
   "source": [
    "# Data from previous sections\n",
    "# seqs, target, seqs_dict\n",
    "# dimension"
   ]
  },
  {
   "cell_type": "code",
   "execution_count": 10,
   "metadata": {
    "deletable": false,
    "editable": false,
    "run_control": {
     "frozen": true
    },
    "slideshow": {
     "slide_type": "subslide"
    }
   },
   "outputs": [
    {
     "data": {
      "image/png": "[encoded data removed]",
      "text/plain": [
       "<matplotlib.figure.Figure at 0x24c0cd04da0>"
      ]
     },
     "metadata": {},
     "output_type": "display_data"
    }
   ],
   "source": [
    "import matplotlib.pyplot as plt\n",
    "\n",
    "# Plot distribution of sequence lengths\n",
    "lengths = []\n",
    "for item in seqs:\n",
    "    lengths.append(len(item))\n",
    "\n",
    "fig = plt.figure(0)\n",
    "ax = fig.add_subplot(111)\n",
    "ax.set_title('Sequence Length Distribution')\n",
    "n, bins, rectangles = ax.hist(lengths, 200)\n",
    "fig.canvas.draw()\n",
    "plt.show()"
   ]
  },
  {
   "cell_type": "code",
   "execution_count": 6,
   "metadata": {
    "ExecuteTime": {
     "end_time": "2018-02-21T19:31:43.169546Z",
     "start_time": "2018-02-21T19:31:43.111385Z"
    },
    "collapsed": true,
    "slideshow": {
     "slide_type": "subslide"
    }
   },
   "outputs": [],
   "source": [
    "def to_onehot(target_single, cutoff):\n",
    "    t = [0] * cutoff\n",
    "    for j in target_single:\n",
    "        t[j] = 1 \n",
    "    return t\n",
    "\n",
    "def optimal_cutoff(seqs, target, cutoff):\n",
    "    new_seqs = []\n",
    "    new_target = []\n",
    "    new_lengths = []\n",
    "    for i, s, t in zip(range(seqs.shape[0]), seqs, target):\n",
    "        if len(s) <= cutoff:\n",
    "            new_seqs.append(s + (cutoff-len(s)) * '0')\n",
    "            new_target.append(to_onehot(t,cutoff))\n",
    "            new_lengths.append(len(s))\n",
    "    return new_seqs, new_target, new_lengths\n",
    "\n",
    "def to_vector(seqs_dict, seq, index, n_gram_size, dimension):\n",
    "    if (index+n_gram_size) < len(seq):\n",
    "        word = seq[index: index+n_gram_size]\n",
    "        if '0' not in word:\n",
    "            return seqs_dict[word]\n",
    "    return [0] * dimension\n",
    "    \n",
    "def construct_X(seqs_dict, seqs, cutoff, n_gram_size, dimension, sample_size, start_index):\n",
    "    X = np.zeros((sample_size, cutoff, dimension))\n",
    "    # Fix this\n",
    "    for i in range(sample_size):\n",
    "        for j in range(cutoff):\n",
    "            X[i][j] = np.array(to_vector(seqs_dict, seqs[start_index + i], j, n_gram_size, dimension))\n",
    "    return X\n",
    "\n",
    "def randomSample(X, Y):\n",
    "    size = X.shape[0]\n",
    "#     print (X.shape)\n",
    "#     print (Y.shape)\n",
    "    r = np.random.randint(size)\n",
    "    retX = X[r].reshape((1, X.shape[1], X.shape[2]))\n",
    "    retY = Y[r].reshape((1, Y.shape[1]))\n",
    "    return (retX, retY)\n",
    "\n",
    "def shuffleXY(X, Y):\n",
    "    C = list(zip(X, Y))\n",
    "    random.shuffle(C)\n",
    "    X_ret, Y_ret = zip(*C)\n",
    "    return X_ret, Y_ret"
   ]
  },
  {
   "cell_type": "code",
   "execution_count": 7,
   "metadata": {
    "ExecuteTime": {
     "end_time": "2018-02-21T19:31:44.645808Z",
     "start_time": "2018-02-21T19:31:44.469787Z"
    },
    "slideshow": {
     "slide_type": "subslide"
    }
   },
   "outputs": [
    {
     "name": "stdout",
     "output_type": "stream",
     "text": [
      "Training set size is 19612\n"
     ]
    }
   ],
   "source": [
    "cutoff = 706\n",
    "cv_ratio = 0.9\n",
    "X, T, L = optimal_cutoff(seqs, target, cutoff)\n",
    "X_train, X_val = X[:(int)(len(X) * cv_ratio)], X[(int)(len(X) * cv_ratio):]\n",
    "T_train, T_val = T[:(int)(len(T) * cv_ratio)], T[(int)(len(T) * cv_ratio):]\n",
    "print ('Training set size is ' + str(len(X_train)))"
   ]
  },
  {
   "cell_type": "code",
   "execution_count": 8,
   "metadata": {
    "ExecuteTime": {
     "end_time": "2018-02-21T19:31:50.450620Z",
     "start_time": "2018-02-21T19:31:49.336558Z"
    },
    "slideshow": {
     "slide_type": "skip"
    }
   },
   "outputs": [
    {
     "name": "stderr",
     "output_type": "stream",
     "text": [
      "Using TensorFlow backend.\n"
     ]
    }
   ],
   "source": [
    "from keras.models import Sequential\n",
    "from keras.layers import Dense\n",
    "from keras.layers import Dropout\n",
    "from keras.layers import LSTM\n",
    "from keras.callbacks import Callback\n",
    "from keras.models import load_model\n",
    "\n",
    "import random\n",
    "\n",
    "# from sklearn.preprocessing import MinMaxScaler\n",
    "# from sklearn.metrics import mean_squared_error\n",
    "# from tensorflow.python.client import device_lib\n",
    "# print(device_lib.list_local_devices())"
   ]
  },
  {
   "cell_type": "code",
   "execution_count": 9,
   "metadata": {
    "ExecuteTime": {
     "end_time": "2018-02-21T19:31:57.950136Z",
     "start_time": "2018-02-21T19:31:55.291544Z"
    },
    "collapsed": true,
    "deletable": false,
    "editable": false
   },
   "outputs": [],
   "source": [
    "model = load_model('current_model_shuffled')"
   ]
  },
  {
   "cell_type": "code",
   "execution_count": 12,
   "metadata": {
    "deletable": false,
    "editable": false,
    "run_control": {
     "frozen": true
    },
    "scrolled": true,
    "slideshow": {
     "slide_type": "fragment"
    }
   },
   "outputs": [
    {
     "name": "stdout",
     "output_type": "stream",
     "text": [
      "_________________________________________________________________\n",
      "Layer (type)                 Output Shape              Param #   \n",
      "=================================================================\n",
      "lstm_1 (LSTM)                (None, 128)               117248    \n",
      "_________________________________________________________________\n",
      "dropout_1 (Dropout)          (None, 128)               0         \n",
      "_________________________________________________________________\n",
      "dense_1 (Dense)              (None, 706)               91074     \n",
      "=================================================================\n",
      "Total params: 208,322\n",
      "Trainable params: 208,322\n",
      "Non-trainable params: 0\n",
      "_________________________________________________________________\n"
     ]
    }
   ],
   "source": [
    "# Build Model\n",
    "model = Sequential()\n",
    "# model.add()\n",
    "model.add(LSTM(128, input_shape=(cutoff,dimension)))\n",
    "model.add(Dropout(0.2))\n",
    "model.add(Dense(cutoff, activation='softmax'))\n",
    "model.compile(loss='binary_crossentropy', optimizer='adam', metrics=[])\n",
    "model.summary()"
   ]
  },
  {
   "cell_type": "markdown",
   "metadata": {},
   "source": [
    "# Updates\n",
    "1. ROC Scores\n",
    "2. Reduce size of input tensor\n",
    "3. review of BRNN architecture"
   ]
  },
  {
   "cell_type": "code",
   "execution_count": 10,
   "metadata": {
    "ExecuteTime": {
     "end_time": "2018-02-21T19:32:02.834849Z",
     "start_time": "2018-02-21T19:32:02.763146Z"
    },
    "collapsed": true,
    "slideshow": {
     "slide_type": "subslide"
    }
   },
   "outputs": [],
   "source": [
    "from sklearn.metrics import roc_auc_score\n",
    "\n",
    "class roc_callback(Callback):\n",
    "    def __init__(self,training_data,validation_data):\n",
    "        self.x = training_data[0]\n",
    "        self.y = training_data[1]\n",
    "        self.x_val = validation_data[0]\n",
    "        self.y_val = validation_data[1]\n",
    "        self.roc_scores = []\n",
    "\n",
    "    def on_train_begin(self, logs={}):\n",
    "        self.roc_scores = []\n",
    "        return\n",
    "    def on_train_end(self, logs={}):\n",
    "        return \n",
    "#     def on_epoch_begin(self, epoch, logs={}):\n",
    "#         return\n",
    "\n",
    "    def on_epoch_end(self, epoch, logs={}):\n",
    "        y_pred = self.model.predict(self.x)\n",
    "#         print (self.y.shape, y_pred.shape)\n",
    "        roc = roc_auc_score(self.y.ravel(), y_pred.ravel())\n",
    "        y_pred_val = self.model.predict(self.x_val)\n",
    "#         print (self.y_val.shape, y_pred_val.shape)\n",
    "\n",
    "        roc_val = roc_auc_score(self.y_val.ravel(), y_pred_val.ravel())\n",
    "        print('\\rroc-auc: %s - roc-auc_val: %s' % (str(round(roc,4)),str(round(roc_val,4))),end=100*' '+'\\n')\n",
    "        self.roc_scores.append((round(roc,4), round(roc_val,4)))\n",
    "        return \n",
    "\n",
    "#     def on_batch_begin(self, batch, logs={}):\n",
    "#         return\n",
    "#     def on_batch_end(self, batch, logs={}):\n",
    "#         return"
   ]
  },
  {
   "cell_type": "code",
   "execution_count": 11,
   "metadata": {
    "ExecuteTime": {
     "end_time": "2018-02-21T21:41:20.013143Z",
     "start_time": "2018-02-21T19:32:07.752741Z"
    },
    "slideshow": {
     "slide_type": "subslide"
    }
   },
   "outputs": [
    {
     "name": "stdout",
     "output_type": "stream",
     "text": [
      "Training from [0] to [1000]\n",
      "roc-auc: 0.8364 - roc-auc_val: 0.8337                                                                                                    \n",
      "Training from [1000] to [2000]\n",
      "roc-auc: 0.8395 - roc-auc_val: 0.8337                                                                                                    \n",
      "Training from [2000] to [3000]\n",
      "roc-auc: 0.8486 - roc-auc_val: 0.8343                                                                                                    \n",
      "Training from [3000] to [4000]\n",
      "roc-auc: 0.8382 - roc-auc_val: 0.8343                                                                                                    \n",
      "Training from [4000] to [5000]\n",
      "roc-auc: 0.8361 - roc-auc_val: 0.8342                                                                                                    \n",
      "Training from [5000] to [6000]\n",
      "roc-auc: 0.8314 - roc-auc_val: 0.8344                                                                                                    \n",
      "Training from [6000] to [7000]\n",
      "roc-auc: 0.833 - roc-auc_val: 0.8345                                                                                                    \n",
      "Training from [7000] to [8000]\n",
      "roc-auc: 0.8373 - roc-auc_val: 0.8343                                                                                                    \n",
      "Training from [8000] to [9000]\n",
      "roc-auc: 0.8404 - roc-auc_val: 0.8341                                                                                                    \n",
      "Training from [9000] to [10000]\n",
      "roc-auc: 0.8389 - roc-auc_val: 0.8338                                                                                                    \n",
      "Training from [10000] to [11000]\n",
      "roc-auc: 0.8359 - roc-auc_val: 0.8341                                                                                                    \n",
      "Training from [11000] to [12000]\n",
      "roc-auc: 0.8362 - roc-auc_val: 0.8342                                                                                                    \n",
      "Training from [12000] to [13000]\n",
      "roc-auc: 0.8392 - roc-auc_val: 0.8344                                                                                                    \n",
      "Training from [13000] to [14000]\n",
      "roc-auc: 0.8358 - roc-auc_val: 0.834                                                                                                    \n",
      "Training from [14000] to [15000]\n",
      "roc-auc: 0.839 - roc-auc_val: 0.8339                                                                                                    \n",
      "Training from [15000] to [16000]\n",
      "roc-auc: 0.8422 - roc-auc_val: 0.8341                                                                                                    \n",
      "Training from [16000] to [17000]\n",
      "roc-auc: 0.8434 - roc-auc_val: 0.8341                                                                                                    \n",
      "Training from [17000] to [18000]\n",
      "roc-auc: 0.8373 - roc-auc_val: 0.8342                                                                                                    \n",
      "Training from [18000] to [19000]\n",
      "roc-auc: 0.8383 - roc-auc_val: 0.8343                                                                                                    \n",
      "Training from [19000] to [19612]\n",
      "roc-auc: 0.8395 - roc-auc_val: 0.8344                                                                                                    \n",
      "Training from [0] to [1000]\n",
      "roc-auc: 0.8327 - roc-auc_val: 0.8343                                                                                                    \n",
      "Training from [1000] to [2000]\n",
      "roc-auc: 0.8408 - roc-auc_val: 0.8341                                                                                                    \n",
      "Training from [2000] to [3000]\n",
      "roc-auc: 0.8342 - roc-auc_val: 0.8342                                                                                                    \n",
      "Training from [3000] to [4000]\n",
      "roc-auc: 0.8308 - roc-auc_val: 0.834                                                                                                    \n",
      "Training from [4000] to [5000]\n",
      "roc-auc: 0.8327 - roc-auc_val: 0.8338                                                                                                    \n",
      "Training from [5000] to [6000]\n",
      "roc-auc: 0.8418 - roc-auc_val: 0.8342                                                                                                    \n",
      "Training from [6000] to [7000]\n",
      "roc-auc: 0.8398 - roc-auc_val: 0.8347                                                                                                    \n",
      "Training from [7000] to [8000]\n",
      "roc-auc: 0.8387 - roc-auc_val: 0.8345                                                                                                    \n",
      "Training from [8000] to [9000]\n",
      "roc-auc: 0.8376 - roc-auc_val: 0.8344                                                                                                    \n",
      "Training from [9000] to [10000]\n",
      "roc-auc: 0.8419 - roc-auc_val: 0.8346                                                                                                    \n",
      "Training from [10000] to [11000]\n",
      "roc-auc: 0.8443 - roc-auc_val: 0.8346                                                                                                    \n",
      "Training from [11000] to [12000]\n",
      "roc-auc: 0.8388 - roc-auc_val: 0.8345                                                                                                    \n",
      "Training from [12000] to [13000]\n",
      "roc-auc: 0.8399 - roc-auc_val: 0.8342                                                                                                    \n",
      "Training from [13000] to [14000]\n",
      "roc-auc: 0.8389 - roc-auc_val: 0.8338                                                                                                    \n",
      "Training from [14000] to [15000]\n",
      "roc-auc: 0.8401 - roc-auc_val: 0.8337                                                                                                    \n",
      "Training from [15000] to [16000]\n",
      "roc-auc: 0.8406 - roc-auc_val: 0.8338                                                                                                    \n",
      "Training from [16000] to [17000]\n",
      "roc-auc: 0.8386 - roc-auc_val: 0.8341                                                                                                    \n",
      "Training from [17000] to [18000]\n",
      "roc-auc: 0.8439 - roc-auc_val: 0.8341                                                                                                    \n",
      "Training from [18000] to [19000]\n",
      "roc-auc: 0.8329 - roc-auc_val: 0.8345                                                                                                    \n",
      "Training from [19000] to [19612]\n",
      "roc-auc: 0.8397 - roc-auc_val: 0.8345                                                                                                    \n",
      "Training from [0] to [1000]\n",
      "roc-auc: 0.8437 - roc-auc_val: 0.8343                                                                                                    \n",
      "Training from [1000] to [2000]\n",
      "roc-auc: 0.8409 - roc-auc_val: 0.8342                                                                                                    \n",
      "Training from [2000] to [3000]\n",
      "roc-auc: 0.8398 - roc-auc_val: 0.834                                                                                                    \n",
      "Training from [3000] to [4000]\n",
      "roc-auc: 0.8412 - roc-auc_val: 0.834                                                                                                    \n",
      "Training from [4000] to [5000]\n",
      "roc-auc: 0.8309 - roc-auc_val: 0.8341                                                                                                    \n",
      "Training from [5000] to [6000]\n",
      "roc-auc: 0.843 - roc-auc_val: 0.8342                                                                                                    \n",
      "Training from [6000] to [7000]\n",
      "roc-auc: 0.8341 - roc-auc_val: 0.8344                                                                                                    \n",
      "Training from [7000] to [8000]\n",
      "roc-auc: 0.8443 - roc-auc_val: 0.8343                                                                                                    \n",
      "Training from [8000] to [9000]\n",
      "roc-auc: 0.8366 - roc-auc_val: 0.8343                                                                                                    \n",
      "Training from [9000] to [10000]\n"
     ]
    },
    {
     "name": "stdout",
     "output_type": "stream",
     "text": [
      "roc-auc: 0.8355 - roc-auc_val: 0.8343                                                                                                    \n",
      "Training from [10000] to [11000]\n",
      "roc-auc: 0.8383 - roc-auc_val: 0.8341                                                                                                    \n",
      "Training from [11000] to [12000]\n",
      "roc-auc: 0.836 - roc-auc_val: 0.8341                                                                                                    \n",
      "Training from [12000] to [13000]\n",
      "roc-auc: 0.8366 - roc-auc_val: 0.8342                                                                                                    \n",
      "Training from [13000] to [14000]\n",
      "roc-auc: 0.8339 - roc-auc_val: 0.8344                                                                                                    \n",
      "Training from [14000] to [15000]\n",
      "roc-auc: 0.8346 - roc-auc_val: 0.8347                                                                                                    \n",
      "Training from [15000] to [16000]\n",
      "roc-auc: 0.8473 - roc-auc_val: 0.8349                                                                                                    \n",
      "Training from [16000] to [17000]\n",
      "roc-auc: 0.8379 - roc-auc_val: 0.8349                                                                                                    \n",
      "Training from [17000] to [18000]\n",
      "roc-auc: 0.8361 - roc-auc_val: 0.8346                                                                                                    \n",
      "Training from [18000] to [19000]\n",
      "roc-auc: 0.8337 - roc-auc_val: 0.8343                                                                                                    \n",
      "Training from [19000] to [19612]\n",
      "roc-auc: 0.8411 - roc-auc_val: 0.8342                                                                                                    \n",
      "Training from [0] to [1000]\n",
      "roc-auc: 0.843 - roc-auc_val: 0.8342                                                                                                    \n",
      "Training from [1000] to [2000]\n",
      "roc-auc: 0.8399 - roc-auc_val: 0.8343                                                                                                    \n",
      "Training from [2000] to [3000]\n",
      "roc-auc: 0.8435 - roc-auc_val: 0.8347                                                                                                    \n",
      "Training from [3000] to [4000]\n",
      "roc-auc: 0.8374 - roc-auc_val: 0.8351                                                                                                    \n",
      "Training from [4000] to [5000]\n",
      "roc-auc: 0.8325 - roc-auc_val: 0.8349                                                                                                    \n",
      "Training from [5000] to [6000]\n",
      "roc-auc: 0.8377 - roc-auc_val: 0.8346                                                                                                    \n",
      "Training from [6000] to [7000]\n",
      "roc-auc: 0.8373 - roc-auc_val: 0.8346                                                                                                    \n",
      "Training from [7000] to [8000]\n",
      "roc-auc: 0.8395 - roc-auc_val: 0.8345                                                                                                    \n",
      "Training from [8000] to [9000]\n",
      "roc-auc: 0.8319 - roc-auc_val: 0.8343                                                                                                    \n",
      "Training from [9000] to [10000]\n",
      "roc-auc: 0.8439 - roc-auc_val: 0.8341                                                                                                    \n",
      "Training from [10000] to [11000]\n",
      "roc-auc: 0.8394 - roc-auc_val: 0.8341                                                                                                    \n",
      "Training from [11000] to [12000]\n",
      "roc-auc: 0.8415 - roc-auc_val: 0.8338                                                                                                    \n",
      "Training from [12000] to [13000]\n",
      "roc-auc: 0.8386 - roc-auc_val: 0.834                                                                                                    \n",
      "Training from [13000] to [14000]\n",
      "roc-auc: 0.8302 - roc-auc_val: 0.834                                                                                                    \n",
      "Training from [14000] to [15000]\n",
      "roc-auc: 0.8405 - roc-auc_val: 0.8339                                                                                                    \n",
      "Training from [15000] to [16000]\n",
      "roc-auc: 0.8451 - roc-auc_val: 0.8341                                                                                                    \n",
      "Training from [16000] to [17000]\n",
      "roc-auc: 0.8345 - roc-auc_val: 0.8343                                                                                                    \n",
      "Training from [17000] to [18000]\n",
      "roc-auc: 0.8327 - roc-auc_val: 0.8343                                                                                                    \n",
      "Training from [18000] to [19000]\n",
      "roc-auc: 0.8379 - roc-auc_val: 0.8344                                                                                                    \n",
      "Training from [19000] to [19612]\n",
      "roc-auc: 0.8401 - roc-auc_val: 0.8345                                                                                                    \n",
      "Training from [0] to [1000]\n",
      "roc-auc: 0.8373 - roc-auc_val: 0.8342                                                                                                    \n",
      "Training from [1000] to [2000]\n",
      "roc-auc: 0.8462 - roc-auc_val: 0.834                                                                                                    \n",
      "Training from [2000] to [3000]\n",
      "roc-auc: 0.8388 - roc-auc_val: 0.8342                                                                                                    \n",
      "Training from [3000] to [4000]\n",
      "roc-auc: 0.8426 - roc-auc_val: 0.8339                                                                                                    \n",
      "Training from [4000] to [5000]\n",
      "roc-auc: 0.8399 - roc-auc_val: 0.8339                                                                                                    \n",
      "Training from [5000] to [6000]\n",
      "roc-auc: 0.8379 - roc-auc_val: 0.8344                                                                                                    \n",
      "Training from [6000] to [7000]\n",
      "roc-auc: 0.8404 - roc-auc_val: 0.8344                                                                                                    \n",
      "Training from [7000] to [8000]\n",
      "roc-auc: 0.84 - roc-auc_val: 0.8341                                                                                                    \n",
      "Training from [8000] to [9000]\n",
      "roc-auc: 0.8302 - roc-auc_val: 0.8341                                                                                                    \n",
      "Training from [9000] to [10000]\n",
      "roc-auc: 0.841 - roc-auc_val: 0.8344                                                                                                    \n",
      "Training from [10000] to [11000]\n",
      "roc-auc: 0.8379 - roc-auc_val: 0.8343                                                                                                    \n",
      "Training from [11000] to [12000]\n",
      "roc-auc: 0.8389 - roc-auc_val: 0.8342                                                                                                    \n",
      "Training from [12000] to [13000]\n",
      "roc-auc: 0.8386 - roc-auc_val: 0.8342                                                                                                    \n",
      "Training from [13000] to [14000]\n",
      "roc-auc: 0.8328 - roc-auc_val: 0.8343                                                                                                    \n",
      "Training from [14000] to [15000]\n",
      "roc-auc: 0.8353 - roc-auc_val: 0.8345                                                                                                    \n",
      "Training from [15000] to [16000]\n",
      "roc-auc: 0.8352 - roc-auc_val: 0.8346                                                                                                    \n",
      "Training from [16000] to [17000]\n",
      "roc-auc: 0.8358 - roc-auc_val: 0.8347                                                                                                    \n",
      "Training from [17000] to [18000]\n",
      "roc-auc: 0.8339 - roc-auc_val: 0.8347                                                                                                    \n",
      "Training from [18000] to [19000]\n"
     ]
    },
    {
     "name": "stdout",
     "output_type": "stream",
     "text": [
      "roc-auc: 0.8422 - roc-auc_val: 0.8345                                                                                                    \n",
      "Training from [19000] to [19612]\n",
      "roc-auc: 0.8412 - roc-auc_val: 0.8345                                                                                                    \n",
      "Training from [0] to [1000]\n",
      "roc-auc: 0.8377 - roc-auc_val: 0.834                                                                                                    \n",
      "Training from [1000] to [2000]\n",
      "roc-auc: 0.8365 - roc-auc_val: 0.8336                                                                                                    \n",
      "Training from [2000] to [3000]\n",
      "roc-auc: 0.8352 - roc-auc_val: 0.8336                                                                                                    \n",
      "Training from [3000] to [4000]\n",
      "roc-auc: 0.8405 - roc-auc_val: 0.8338                                                                                                    \n",
      "Training from [4000] to [5000]\n",
      "roc-auc: 0.837 - roc-auc_val: 0.8343                                                                                                    \n",
      "Training from [5000] to [6000]\n",
      "roc-auc: 0.8389 - roc-auc_val: 0.8345                                                                                                    \n",
      "Training from [6000] to [7000]\n",
      "roc-auc: 0.8313 - roc-auc_val: 0.8349                                                                                                    \n",
      "Training from [7000] to [8000]\n",
      "roc-auc: 0.8407 - roc-auc_val: 0.8349                                                                                                    \n",
      "Training from [8000] to [9000]\n",
      "roc-auc: 0.8427 - roc-auc_val: 0.8348                                                                                                    \n",
      "Training from [9000] to [10000]\n",
      "roc-auc: 0.8374 - roc-auc_val: 0.8346                                                                                                    \n",
      "Training from [10000] to [11000]\n",
      "roc-auc: 0.8422 - roc-auc_val: 0.8346                                                                                                    \n",
      "Training from [11000] to [12000]\n",
      "roc-auc: 0.8386 - roc-auc_val: 0.8345                                                                                                    \n",
      "Training from [12000] to [13000]\n",
      "roc-auc: 0.8389 - roc-auc_val: 0.8342                                                                                                    \n",
      "Training from [13000] to [14000]\n",
      "roc-auc: 0.8451 - roc-auc_val: 0.8341                                                                                                    \n",
      "Training from [14000] to [15000]\n",
      "roc-auc: 0.839 - roc-auc_val: 0.8343                                                                                                    \n",
      "Training from [15000] to [16000]\n",
      "roc-auc: 0.8398 - roc-auc_val: 0.8345                                                                                                    \n",
      "Training from [16000] to [17000]\n",
      "roc-auc: 0.8363 - roc-auc_val: 0.8346                                                                                                    \n",
      "Training from [17000] to [18000]\n",
      "roc-auc: 0.8311 - roc-auc_val: 0.8344                                                                                                    \n",
      "Training from [18000] to [19000]\n",
      "roc-auc: 0.8422 - roc-auc_val: 0.8345                                                                                                    \n",
      "Training from [19000] to [19612]\n",
      "roc-auc: 0.8291 - roc-auc_val: 0.8346                                                                                                    \n",
      "Training from [0] to [1000]\n",
      "roc-auc: 0.8378 - roc-auc_val: 0.8345                                                                                                    \n",
      "Training from [1000] to [2000]\n",
      "roc-auc: 0.8397 - roc-auc_val: 0.8344                                                                                                    \n",
      "Training from [2000] to [3000]\n",
      "roc-auc: 0.833 - roc-auc_val: 0.8345                                                                                                    \n",
      "Training from [3000] to [4000]\n",
      "roc-auc: 0.8341 - roc-auc_val: 0.8345                                                                                                    \n",
      "Training from [4000] to [5000]\n",
      "roc-auc: 0.8384 - roc-auc_val: 0.8346                                                                                                    \n",
      "Training from [5000] to [6000]\n",
      "roc-auc: 0.8324 - roc-auc_val: 0.8347                                                                                                    \n",
      "Training from [6000] to [7000]\n",
      "roc-auc: 0.8393 - roc-auc_val: 0.8347                                                                                                    \n",
      "Training from [7000] to [8000]\n",
      "roc-auc: 0.8425 - roc-auc_val: 0.8343                                                                                                    \n",
      "Training from [8000] to [9000]\n",
      "roc-auc: 0.8421 - roc-auc_val: 0.8343                                                                                                    \n",
      "Training from [9000] to [10000]\n",
      "roc-auc: 0.8399 - roc-auc_val: 0.8344                                                                                                    \n",
      "Training from [10000] to [11000]\n",
      "roc-auc: 0.8396 - roc-auc_val: 0.8346                                                                                                    \n",
      "Training from [11000] to [12000]\n",
      "roc-auc: 0.8359 - roc-auc_val: 0.8345                                                                                                    \n",
      "Training from [12000] to [13000]\n",
      "roc-auc: 0.8405 - roc-auc_val: 0.8347                                                                                                    \n",
      "Training from [13000] to [14000]\n",
      "roc-auc: 0.8435 - roc-auc_val: 0.8345                                                                                                    \n",
      "Training from [14000] to [15000]\n",
      "roc-auc: 0.84 - roc-auc_val: 0.8348                                                                                                    \n",
      "Training from [15000] to [16000]\n",
      "roc-auc: 0.8325 - roc-auc_val: 0.8347                                                                                                    \n",
      "Training from [16000] to [17000]\n",
      "roc-auc: 0.8358 - roc-auc_val: 0.8346                                                                                                    \n",
      "Training from [17000] to [18000]\n",
      "roc-auc: 0.8332 - roc-auc_val: 0.8344                                                                                                    \n",
      "Training from [18000] to [19000]\n",
      "roc-auc: 0.8418 - roc-auc_val: 0.8341                                                                                                    \n",
      "Training from [19000] to [19612]\n",
      "roc-auc: 0.843 - roc-auc_val: 0.8343                                                                                                    \n",
      "Training from [0] to [1000]\n",
      "roc-auc: 0.8461 - roc-auc_val: 0.8341                                                                                                    \n",
      "Training from [1000] to [2000]\n",
      "roc-auc: 0.8366 - roc-auc_val: 0.8341                                                                                                    \n",
      "Training from [2000] to [3000]\n",
      "roc-auc: 0.8394 - roc-auc_val: 0.8344                                                                                                    \n",
      "Training from [3000] to [4000]\n",
      "roc-auc: 0.8391 - roc-auc_val: 0.8348                                                                                                    \n",
      "Training from [4000] to [5000]\n",
      "roc-auc: 0.8386 - roc-auc_val: 0.8348                                                                                                    \n",
      "Training from [5000] to [6000]\n",
      "roc-auc: 0.8308 - roc-auc_val: 0.8345                                                                                                    \n",
      "Training from [6000] to [7000]\n",
      "roc-auc: 0.8334 - roc-auc_val: 0.8342                                                                                                    \n",
      "Training from [7000] to [8000]\n"
     ]
    },
    {
     "name": "stdout",
     "output_type": "stream",
     "text": [
      "roc-auc: 0.8397 - roc-auc_val: 0.8342                                                                                                    \n",
      "Training from [8000] to [9000]\n",
      "roc-auc: 0.839 - roc-auc_val: 0.834                                                                                                    \n",
      "Training from [9000] to [10000]\n",
      "roc-auc: 0.8436 - roc-auc_val: 0.834                                                                                                    \n",
      "Training from [10000] to [11000]\n",
      "roc-auc: 0.8381 - roc-auc_val: 0.8339                                                                                                    \n",
      "Training from [11000] to [12000]\n",
      "roc-auc: 0.8372 - roc-auc_val: 0.8341                                                                                                    \n",
      "Training from [12000] to [13000]\n",
      "roc-auc: 0.8456 - roc-auc_val: 0.8342                                                                                                    \n",
      "Training from [13000] to [14000]\n",
      "roc-auc: 0.8399 - roc-auc_val: 0.8342                                                                                                    \n",
      "Training from [14000] to [15000]\n",
      "roc-auc: 0.8312 - roc-auc_val: 0.8346                                                                                                    \n",
      "Training from [15000] to [16000]\n",
      "roc-auc: 0.8347 - roc-auc_val: 0.8347                                                                                                    \n",
      "Training from [16000] to [17000]\n",
      "roc-auc: 0.8405 - roc-auc_val: 0.8347                                                                                                    \n",
      "Training from [17000] to [18000]\n",
      "roc-auc: 0.8388 - roc-auc_val: 0.835                                                                                                    \n",
      "Training from [18000] to [19000]\n",
      "roc-auc: 0.8367 - roc-auc_val: 0.8349                                                                                                    \n",
      "Training from [19000] to [19612]\n",
      "roc-auc: 0.832 - roc-auc_val: 0.8349                                                                                                    \n",
      "Training from [0] to [1000]\n",
      "roc-auc: 0.8376 - roc-auc_val: 0.8349                                                                                                    \n",
      "Training from [1000] to [2000]\n",
      "roc-auc: 0.8443 - roc-auc_val: 0.8341                                                                                                    \n",
      "Training from [2000] to [3000]\n",
      "roc-auc: 0.8383 - roc-auc_val: 0.834                                                                                                    \n",
      "Training from [3000] to [4000]\n",
      "roc-auc: 0.8434 - roc-auc_val: 0.8343                                                                                                    \n",
      "Training from [4000] to [5000]\n",
      "roc-auc: 0.838 - roc-auc_val: 0.8343                                                                                                    \n",
      "Training from [5000] to [6000]\n",
      "roc-auc: 0.84 - roc-auc_val: 0.8346                                                                                                    \n",
      "Training from [6000] to [7000]\n",
      "roc-auc: 0.8469 - roc-auc_val: 0.8343                                                                                                    \n",
      "Training from [7000] to [8000]\n",
      "roc-auc: 0.8413 - roc-auc_val: 0.8341                                                                                                    \n",
      "Training from [8000] to [9000]\n",
      "roc-auc: 0.8325 - roc-auc_val: 0.8341                                                                                                    \n",
      "Training from [9000] to [10000]\n",
      "roc-auc: 0.8297 - roc-auc_val: 0.8344                                                                                                    \n",
      "Training from [10000] to [11000]\n",
      "roc-auc: 0.8358 - roc-auc_val: 0.8347                                                                                                    \n",
      "Training from [11000] to [12000]\n",
      "roc-auc: 0.8361 - roc-auc_val: 0.835                                                                                                    \n",
      "Training from [12000] to [13000]\n",
      "roc-auc: 0.8353 - roc-auc_val: 0.8349                                                                                                    \n",
      "Training from [13000] to [14000]\n",
      "roc-auc: 0.8405 - roc-auc_val: 0.8352                                                                                                    \n",
      "Training from [14000] to [15000]\n",
      "roc-auc: 0.8339 - roc-auc_val: 0.8347                                                                                                    \n",
      "Training from [15000] to [16000]\n",
      "roc-auc: 0.8291 - roc-auc_val: 0.8349                                                                                                    \n",
      "Training from [16000] to [17000]\n",
      "roc-auc: 0.8376 - roc-auc_val: 0.8351                                                                                                    \n",
      "Training from [17000] to [18000]\n",
      "roc-auc: 0.8463 - roc-auc_val: 0.8351                                                                                                    \n",
      "Training from [18000] to [19000]\n",
      "roc-auc: 0.8391 - roc-auc_val: 0.8347                                                                                                    \n",
      "Training from [19000] to [19612]\n",
      "roc-auc: 0.8413 - roc-auc_val: 0.8349                                                                                                    \n",
      "Training from [0] to [1000]\n",
      "roc-auc: 0.8424 - roc-auc_val: 0.8351                                                                                                    \n",
      "Training from [1000] to [2000]\n",
      "roc-auc: 0.8333 - roc-auc_val: 0.8345                                                                                                    \n",
      "Training from [2000] to [3000]\n",
      "roc-auc: 0.8383 - roc-auc_val: 0.8347                                                                                                    \n",
      "Training from [3000] to [4000]\n",
      "roc-auc: 0.8362 - roc-auc_val: 0.8345                                                                                                    \n",
      "Training from [4000] to [5000]\n",
      "roc-auc: 0.8393 - roc-auc_val: 0.8347                                                                                                    \n",
      "Training from [5000] to [6000]\n",
      "roc-auc: 0.8449 - roc-auc_val: 0.8347                                                                                                    \n",
      "Training from [6000] to [7000]\n",
      "roc-auc: 0.8399 - roc-auc_val: 0.835                                                                                                    \n",
      "Training from [7000] to [8000]\n",
      "roc-auc: 0.8413 - roc-auc_val: 0.8349                                                                                                    \n",
      "Training from [8000] to [9000]\n",
      "roc-auc: 0.8321 - roc-auc_val: 0.8347                                                                                                    \n",
      "Training from [9000] to [10000]\n",
      "roc-auc: 0.8395 - roc-auc_val: 0.8345                                                                                                    \n",
      "Training from [10000] to [11000]\n",
      "roc-auc: 0.8345 - roc-auc_val: 0.8343                                                                                                    \n",
      "Training from [11000] to [12000]\n",
      "roc-auc: 0.8423 - roc-auc_val: 0.8345                                                                                                    \n",
      "Training from [12000] to [13000]\n",
      "roc-auc: 0.8401 - roc-auc_val: 0.8348                                                                                                    \n",
      "Training from [13000] to [14000]\n",
      "roc-auc: 0.833 - roc-auc_val: 0.835                                                                                                    \n",
      "Training from [14000] to [15000]\n",
      "roc-auc: 0.8443 - roc-auc_val: 0.8354                                                                                                    \n",
      "Training from [15000] to [16000]\n",
      "roc-auc: 0.8331 - roc-auc_val: 0.8262                                                                                                    \n",
      "Training from [16000] to [17000]\n"
     ]
    },
    {
     "name": "stdout",
     "output_type": "stream",
     "text": [
      "roc-auc: 0.837 - roc-auc_val: 0.8349                                                                                                    \n",
      "Training from [17000] to [18000]\n",
      "roc-auc: 0.8349 - roc-auc_val: 0.8348                                                                                                    \n",
      "Training from [18000] to [19000]\n",
      "roc-auc: 0.8397 - roc-auc_val: 0.8348                                                                                                    \n",
      "Training from [19000] to [19612]\n",
      "roc-auc: 0.8344 - roc-auc_val: 0.8347                                                                                                    \n"
     ]
    }
   ],
   "source": [
    "#Input (50,706,100) = 3,530,000 [141200000] \n",
    "#Output (50,706,1) = 35,300 [1412000]\n",
    "\n",
    "\n",
    "history_of_loss = [] # Accumulated loss over epoch * num_of_samples / fold_size\n",
    "histroy_of_roc = []\n",
    "epoch =10\n",
    "batch_size = 50 # Minibatch size\n",
    "fold_size = 1000 # Input tensor size (fold_size, cutoff, dimension)\n",
    "\n",
    "def training_procedure():\n",
    "    \n",
    "    # Shuffle batch at each epoch\n",
    "    X_train_shuffled, T_train_shuffled = shuffleXY(X_train, T_train)\n",
    "    X_val_shuffled, T_val_shuffled = shuffleXY(X_val, T_val)\n",
    "    \n",
    "    # Construct validation sets\n",
    "    X_Val = construct_X(seqs_dict, X_val_shuffled, cutoff, n_gram_size, dimension, len(X_val_shuffled), 0)\n",
    "    T_Val = np.array(T_val_shuffled).reshape(len(T_val_shuffled), cutoff)\n",
    "    \n",
    "    # 1 to n-1 folds\n",
    "    n = int(len(X_train) / fold_size)\n",
    "    for i in range(n):\n",
    "        print('Training from [' + str(i * fold_size) + '] to [' + str((i+1) * fold_size) + ']')   \n",
    "        X = construct_X(seqs_dict, X_train_shuffled, cutoff, n_gram_size, dimension, fold_size, i * fold_size)\n",
    "        T = np.array(T_train_shuffled[i * fold_size: (i+1) * fold_size]).reshape(fold_size,cutoff)\n",
    "\n",
    "#         hist = model.fit(X, T, epochs=1, batch_size=batch_size, verbose=0)\n",
    "        cb = roc_callback((X,T), (X_Val, T_Val))\n",
    "        hist = model.fit(X, T, epochs=1, batch_size=batch_size, verbose=0, \n",
    "                         callbacks=[cb])\n",
    "        \n",
    "        history_of_loss.append(hist.history['loss'])\n",
    "        histroy_of_roc.extend(cb.roc_scores)\n",
    "\n",
    "\n",
    "    # Last fold\n",
    "    last_fold_size = len(X_train) - n * fold_size\n",
    "    print('Training from [' + str(n * fold_size) + '] to [' + str(n * fold_size + last_fold_size) + ']')   \n",
    "\n",
    "    X = construct_X(seqs_dict, X_train_shuffled, cutoff, n_gram_size, dimension, last_fold_size, n * fold_size)\n",
    "    T = np.array(T_train_shuffled[n * fold_size : n * fold_size + last_fold_size]).reshape(last_fold_size,cutoff)\n",
    "\n",
    "    cb = roc_callback((X,T), (X_Val, T_Val))\n",
    "    hist = model.fit(X, T, epochs=1, batch_size=batch_size, verbose=0, \n",
    "                         callbacks=[cb])\n",
    "\n",
    "    # hist = model.fit(X, T, epochs=epoch, batch_size=batch_size, verbose=1, \n",
    "    #                     callbacks=[roc_callback((X,T), (X_Val, T_Val))])\n",
    "    history_of_loss.append(hist.history['loss'])\n",
    "    histroy_of_roc.extend(cb.roc_scores)\n",
    "for i in range(epoch):\n",
    "    training_procedure()"
   ]
  },
  {
   "cell_type": "code",
   "execution_count": 12,
   "metadata": {
    "ExecuteTime": {
     "end_time": "2018-02-21T21:51:38.454018Z",
     "start_time": "2018-02-21T21:51:38.335700Z"
    },
    "collapsed": true
   },
   "outputs": [],
   "source": [
    "model.save(\"current_model_shuffled_2\")"
   ]
  },
  {
   "cell_type": "code",
   "execution_count": null,
   "metadata": {
    "collapsed": true,
    "deletable": false,
    "editable": false,
    "run_control": {
     "frozen": true
    }
   },
   "outputs": [],
   "source": [
    "plt.figure()\n",
    "lw = 2\n",
    "plt.plot(fpr[2], tpr[2], color='darkorange',\n",
    "         lw=lw, label='ROC curve (area = %0.2f)' % roc_auc[2])\n",
    "plt.plot([0, 1], [0, 1], color='navy', lw=lw, linestyle='--')\n",
    "plt.xlim([0.0, 1.0])\n",
    "plt.ylim([0.0, 1.05])\n",
    "plt.xlabel('False Positive Rate')\n",
    "plt.ylabel('True Positive Rate')\n",
    "plt.title('Receiver operating characteristic example')\n",
    "plt.legend(loc=\"lower right\")\n",
    "plt.show()"
   ]
  },
  {
   "cell_type": "code",
   "execution_count": null,
   "metadata": {
    "collapsed": true,
    "deletable": false,
    "editable": false,
    "run_control": {
     "frozen": true
    },
    "slideshow": {
     "slide_type": "skip"
    }
   },
   "outputs": [],
   "source": [
    "print ('Metrics are [ ' + str(history.history.keys()) + ' ]')"
   ]
  },
  {
   "cell_type": "code",
   "execution_count": 13,
   "metadata": {
    "ExecuteTime": {
     "end_time": "2018-02-21T21:51:48.640138Z",
     "start_time": "2018-02-21T21:51:47.885418Z"
    },
    "scrolled": true,
    "slideshow": {
     "slide_type": "subslide"
    }
   },
   "outputs": [
    {
     "data": {
      "image/png": "[encoded data removed]",
      "text/plain": [
       "<matplotlib.figure.Figure at 0x20a528e1ba8>"
      ]
     },
     "metadata": {},
     "output_type": "display_data"
    }
   ],
   "source": [
    "import matplotlib.pyplot as plt\n",
    "fig = plt.figure(1)\n",
    "ax = fig.add_subplot(111)\n",
    "ax.set_title('Loss over Iterations')\n",
    "ax.plot(history_of_loss)\n",
    "fig.canvas.draw()\n",
    "plt.show()"
   ]
  },
  {
   "cell_type": "code",
   "execution_count": 14,
   "metadata": {
    "ExecuteTime": {
     "end_time": "2018-02-21T21:51:56.848068Z",
     "start_time": "2018-02-21T21:51:56.644443Z"
    },
    "collapsed": true
   },
   "outputs": [],
   "source": [
    "X_train_shuffled, T_train_shuffled = shuffleXY(X_train, T_train)"
   ]
  },
  {
   "cell_type": "code",
   "execution_count": 37,
   "metadata": {
    "ExecuteTime": {
     "end_time": "2018-02-21T21:58:32.271203Z",
     "start_time": "2018-02-21T21:58:23.581308Z"
    },
    "slideshow": {
     "slide_type": "fragment"
    }
   },
   "outputs": [
    {
     "name": "stdout",
     "output_type": "stream",
     "text": [
      "Min  2.12121e-06 Max  0.0121522\n"
     ]
    }
   ],
   "source": [
    "X = construct_X(seqs_dict, X_train_shuffled, cutoff, n_gram_size, dimension, 2000, 0)\n",
    "T = np.array(T_train_shuffled[0: 2000]).reshape(2000,cutoff)\n",
    "x,y = randomSample(X, T)\n",
    "output = model.predict(x)\n",
    "print ('Min ', np.min(output[0]),'Max ',np.max(output[0]))"
   ]
  },
  {
   "cell_type": "code",
   "execution_count": 38,
   "metadata": {
    "ExecuteTime": {
     "end_time": "2018-02-21T21:58:37.573049Z",
     "start_time": "2018-02-21T21:58:37.568009Z"
    }
   },
   "outputs": [
    {
     "name": "stdout",
     "output_type": "stream",
     "text": [
      "200\n"
     ]
    }
   ],
   "source": [
    "print (len(histroy_of_roc))"
   ]
  },
  {
   "cell_type": "code",
   "execution_count": 39,
   "metadata": {
    "ExecuteTime": {
     "end_time": "2018-02-21T21:58:43.129853Z",
     "start_time": "2018-02-21T21:58:43.123336Z"
    },
    "slideshow": {
     "slide_type": "skip"
    }
   },
   "outputs": [
    {
     "name": "stdout",
     "output_type": "stream",
     "text": [
      "33 0.00306321\n",
      "42 0.00756791\n",
      "167 0.00238032\n"
     ]
    }
   ],
   "source": [
    "for i in range(cutoff):\n",
    "    if y[0][i] == 1:\n",
    "        print (i, output[0][i])"
   ]
  },
  {
   "cell_type": "code",
   "execution_count": 40,
   "metadata": {
    "ExecuteTime": {
     "end_time": "2018-02-21T21:58:48.604987Z",
     "start_time": "2018-02-21T21:58:48.599972Z"
    },
    "slideshow": {
     "slide_type": "subslide"
    }
   },
   "outputs": [
    {
     "name": "stdout",
     "output_type": "stream",
     "text": [
      "[ 0.00087447  0.00011667  0.00040063  0.00112025  0.00126745  0.00601582\n",
      "  0.00316794  0.00344922  0.00652235  0.00416091  0.00480674  0.00473537\n",
      "  0.00357682  0.00408345  0.00280984  0.00468481  0.00271563  0.00620116\n",
      "  0.00225771  0.00393314  0.00486532  0.00292887  0.00396936  0.00452826\n",
      "  0.00508901  0.00857702  0.00703177  0.0056436   0.00770686  0.00437961\n",
      "  0.00455097  0.00401255  0.00542702  0.00306321  0.00305628  0.00515052\n",
      "  0.00313525  0.00333292  0.00400104  0.00549681  0.00472778  0.00375622\n",
      "  0.00756791  0.00450315  0.00390725  0.00849432  0.00279029  0.00400716\n",
      "  0.00298961  0.00379447  0.00475672  0.00429106  0.00317121  0.00263132\n",
      "  0.00433055  0.00371842  0.0033383   0.00327842  0.00478623  0.00546165\n",
      "  0.00461162  0.00409867  0.00891628  0.00476945  0.00587748  0.00517743\n",
      "  0.00543378  0.00391758  0.00770623  0.0036901   0.00768225  0.00508005\n",
      "  0.00435888  0.00348734  0.00299507  0.00487426  0.00511902  0.00397044\n",
      "  0.0049115   0.00645018  0.00534082  0.00370144  0.01083975  0.00605289\n",
      "  0.00481832  0.00708263  0.00282346  0.00451468  0.00371834  0.00312513\n",
      "  0.00543405  0.00470747  0.00587101  0.01215225  0.00554954]\n"
     ]
    }
   ],
   "source": [
    "print (output[0][0:95])"
   ]
  },
  {
   "cell_type": "code",
   "execution_count": null,
   "metadata": {
    "collapsed": true
   },
   "outputs": [],
   "source": []
  }
 ],
 "metadata": {
  "kernelspec": {
   "display_name": "Python 3",
   "language": "python",
   "name": "python3"
  },
  "language_info": {
   "codemirror_mode": {
    "name": "ipython",
    "version": 3
   },
   "file_extension": ".py",
   "mimetype": "text/x-python",
   "name": "python",
   "nbconvert_exporter": "python",
   "pygments_lexer": "ipython3",
   "version": "3.6.3"
  },
  "varInspector": {
   "cols": {
    "lenName": 16,
    "lenType": 16,
    "lenVar": 40
   },
   "kernels_config": {
    "python": {
     "delete_cmd_postfix": "",
     "delete_cmd_prefix": "del ",
     "library": "var_list.py",
     "varRefreshCmd": "print(var_dic_list())"
    },
    "r": {
     "delete_cmd_postfix": ") ",
     "delete_cmd_prefix": "rm(",
     "library": "var_list.r",
     "varRefreshCmd": "cat(var_dic_list()) "
    }
   },
   "position": {
    "height": "467px",
    "left": "890.4px",
    "right": "20px",
    "top": "223px",
    "width": "349px"
   },
   "types_to_exclude": [
    "module",
    "function",
    "builtin_function_or_method",
    "instance",
    "_Feature"
   ],
   "window_display": false
  }
 },
 "nbformat": 4,
 "nbformat_minor": 2
}
